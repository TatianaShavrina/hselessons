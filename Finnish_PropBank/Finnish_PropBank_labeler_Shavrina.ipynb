{
 "cells": [
  {
   "cell_type": "markdown",
   "metadata": {},
   "source": [
    "### Homework on PropBank and semantic roles tagging\n",
    "#### Tatiana Shavrina"
   ]
  },
  {
   "cell_type": "code",
   "execution_count": 1,
   "metadata": {},
   "outputs": [],
   "source": [
    "from conllu.parser import parse, parse_tree\n",
    "import requests\n",
    "import re\n",
    "import nltk\n",
    "import pycrfsuite\n",
    "from sklearn.metrics import *"
   ]
  },
  {
   "cell_type": "markdown",
   "metadata": {},
   "source": [
    "#### Parsing the data"
   ]
  },
  {
   "cell_type": "code",
   "execution_count": 2,
   "metadata": {},
   "outputs": [],
   "source": [
    "url = 'https://raw.githubusercontent.com/TurkuNLP/Finnish_PropBank/data/fipb-ud-train.conllu'\n",
    "response = requests.get(url)\n",
    "data = response.text"
   ]
  },
  {
   "cell_type": "code",
   "execution_count": 3,
   "metadata": {},
   "outputs": [],
   "source": [
    "\n",
    "data = re.sub(r\" +\", r\"\\t\", data)\n",
    "\n",
    "data_dic = parse(data)"
   ]
  },
  {
   "cell_type": "code",
   "execution_count": 4,
   "metadata": {},
   "outputs": [
    {
     "data": {
      "text/plain": [
       "12217"
      ]
     },
     "execution_count": 4,
     "metadata": {},
     "output_type": "execute_result"
    }
   ],
   "source": [
    "len(data_dic)"
   ]
  },
  {
   "cell_type": "code",
   "execution_count": 5,
   "metadata": {},
   "outputs": [
    {
     "data": {
      "text/plain": [
       "[OrderedDict([('id', 1),\n",
       "              ('form', 'Vähän'),\n",
       "              ('lemma', 'vähän'),\n",
       "              ('upostag', 'ADV'),\n",
       "              ('xpostag', 'Adv'),\n",
       "              ('feats', None),\n",
       "              ('head', 2),\n",
       "              ('deprel', 'advmod'),\n",
       "              ('deps', None),\n",
       "              ('misc', None)]),\n",
       " OrderedDict([('id', 2),\n",
       "              ('form', 'samanlainen'),\n",
       "              ('lemma', 'samanlainen'),\n",
       "              ('upostag', 'ADJ'),\n",
       "              ('xpostag', 'A'),\n",
       "              ('feats',\n",
       "               OrderedDict([('Case', 'Nom'),\n",
       "                            ('Degree', 'Pos'),\n",
       "                            ('Number', 'Sing')])),\n",
       "              ('head', 3),\n",
       "              ('deprel', 'amod'),\n",
       "              ('deps', None),\n",
       "              ('misc', None)]),\n",
       " OrderedDict([('id', 3),\n",
       "              ('form', 'tunne'),\n",
       "              ('lemma', 'tunne'),\n",
       "              ('upostag', 'NOUN'),\n",
       "              ('xpostag', 'N'),\n",
       "              ('feats', OrderedDict([('Case', 'Nom'), ('Number', 'Sing')])),\n",
       "              ('head', 0),\n",
       "              ('deprel', 'root'),\n",
       "              ('deps', None),\n",
       "              ('misc', None)]),\n",
       " OrderedDict([('id', 4),\n",
       "              ('form', 'kuin'),\n",
       "              ('lemma', 'kuin'),\n",
       "              ('upostag', 'SCONJ'),\n",
       "              ('xpostag', 'C'),\n",
       "              ('feats', None),\n",
       "              ('head', 5),\n",
       "              ('deprel', 'mark'),\n",
       "              ('deps', None),\n",
       "              ('misc', None)]),\n",
       " OrderedDict([('id', 5),\n",
       "              ('form', 'silloin'),\n",
       "              ('lemma', 'silloin'),\n",
       "              ('upostag', 'ADV'),\n",
       "              ('xpostag', 'Adv'),\n",
       "              ('feats', None),\n",
       "              ('head', 2),\n",
       "              ('deprel', 'advcl'),\n",
       "              ('deps', None),\n",
       "              ('misc', OrderedDict([('SpaceAfter', 'No')]))]),\n",
       " OrderedDict([('id', 6),\n",
       "              ('form', ','),\n",
       "              ('lemma', ','),\n",
       "              ('upostag', 'PUNCT'),\n",
       "              ('xpostag', 'Punct'),\n",
       "              ('feats', None),\n",
       "              ('head', 9),\n",
       "              ('deprel', 'punct'),\n",
       "              ('deps', None),\n",
       "              ('misc', None)]),\n",
       " OrderedDict([('id', 7),\n",
       "              ('form', 'kun'),\n",
       "              ('lemma', 'kun'),\n",
       "              ('upostag', 'SCONJ'),\n",
       "              ('xpostag', 'C'),\n",
       "              ('feats', None),\n",
       "              ('head', 9),\n",
       "              ('deprel', 'mark'),\n",
       "              ('deps', None),\n",
       "              ('misc', None)]),\n",
       " OrderedDict([('id', 8),\n",
       "              ('form', 'ystävämme'),\n",
       "              ('lemma', 'ystävä'),\n",
       "              ('upostag', 'NOUN'),\n",
       "              ('xpostag', 'N'),\n",
       "              ('feats',\n",
       "               OrderedDict([('Case', 'Nom'),\n",
       "                            ('Number', 'Sing'),\n",
       "                            ('Number[psor]', 'Plur'),\n",
       "                            ('Person[psor]', '1')])),\n",
       "              ('head', 9),\n",
       "              ('deprel', 'nsubj'),\n",
       "              ('deps', '9:PBArg_0'),\n",
       "              ('misc', None)]),\n",
       " OrderedDict([('id', 9),\n",
       "              ('form', 'vei'),\n",
       "              ('lemma', 'viedä'),\n",
       "              ('upostag', 'VERB'),\n",
       "              ('xpostag', 'V'),\n",
       "              ('feats',\n",
       "               OrderedDict([('Mood', 'Ind'),\n",
       "                            ('Number', 'Sing'),\n",
       "                            ('Person', '3'),\n",
       "                            ('Tense', 'Past'),\n",
       "                            ('VerbForm', 'Fin'),\n",
       "                            ('Voice', 'Act')])),\n",
       "              ('head', 5),\n",
       "              ('deprel', 'advcl'),\n",
       "              ('deps', None),\n",
       "              ('misc', OrderedDict([('PBSENSE', 'viedä.1')]))]),\n",
       " OrderedDict([('id', 10),\n",
       "              ('form', 'meidät'),\n",
       "              ('lemma', 'minä'),\n",
       "              ('upostag', 'PRON'),\n",
       "              ('xpostag', 'Pron'),\n",
       "              ('feats',\n",
       "               OrderedDict([('Case', 'Acc'),\n",
       "                            ('Number', 'Plur'),\n",
       "                            ('Person', '1'),\n",
       "                            ('PronType', 'Prs')])),\n",
       "              ('head', 9),\n",
       "              ('deprel', 'dobj'),\n",
       "              ('deps', '9:PBArg_1'),\n",
       "              ('misc', None)]),\n",
       " OrderedDict([('id', 11),\n",
       "              ('form', 'kerran'),\n",
       "              ('lemma', 'kerran'),\n",
       "              ('upostag', 'ADV'),\n",
       "              ('xpostag', 'Adv'),\n",
       "              ('feats', None),\n",
       "              ('head', 9),\n",
       "              ('deprel', 'advmod'),\n",
       "              ('deps', '9:PBArgM_tmp'),\n",
       "              ('misc', None)]),\n",
       " OrderedDict([('id', 12),\n",
       "              ('form', 'ylös'),\n",
       "              ('lemma', 'ylös'),\n",
       "              ('upostag', 'ADV'),\n",
       "              ('xpostag', 'Adv'),\n",
       "              ('feats', None),\n",
       "              ('head', 14),\n",
       "              ('deprel', 'advmod'),\n",
       "              ('deps', None),\n",
       "              ('misc', OrderedDict([('SpaceAfter', 'No')]))]),\n",
       " OrderedDict([('id', 13),\n",
       "              ('form', 'tuomiokirkon'),\n",
       "              ('lemma', 'tuomio#kirkko'),\n",
       "              ('upostag', 'NOUN'),\n",
       "              ('xpostag', 'N'),\n",
       "              ('feats', OrderedDict([('Case', 'Gen'), ('Number', 'Sing')])),\n",
       "              ('head', 14),\n",
       "              ('deprel', 'nmod:poss'),\n",
       "              ('deps', None),\n",
       "              ('misc', None)]),\n",
       " OrderedDict([('id', 14),\n",
       "              ('form', 'torniin'),\n",
       "              ('lemma', 'torni'),\n",
       "              ('upostag', 'NOUN'),\n",
       "              ('xpostag', 'N'),\n",
       "              ('feats', OrderedDict([('Case', 'Ill'), ('Number', 'Sing')])),\n",
       "              ('head', 9),\n",
       "              ('deprel', 'nmod'),\n",
       "              ('deps', '9:PBArg_3'),\n",
       "              ('misc', OrderedDict([('SpaceAfter', 'No')]))]),\n",
       " OrderedDict([('id', 15),\n",
       "              ('form', '.'),\n",
       "              ('lemma', '.'),\n",
       "              ('upostag', 'PUNCT'),\n",
       "              ('xpostag', 'Punct'),\n",
       "              ('feats', None),\n",
       "              ('head', 3),\n",
       "              ('deprel', 'punct'),\n",
       "              ('deps', None),\n",
       "              ('misc', None)])]"
      ]
     },
     "execution_count": 5,
     "metadata": {},
     "output_type": "execute_result"
    }
   ],
   "source": [
    "data_dic[2] #data_dic is a list of dicts, where for each sentence there is an OrderedDict with word and its given features - \n",
    "# Training features: id, form, lemma, upostag, xpostag, feats, head, misc\n",
    "# Testing - deprel and deps"
   ]
  },
  {
   "cell_type": "code",
   "execution_count": 6,
   "metadata": {},
   "outputs": [
    {
     "data": {
      "text/plain": [
       "'samanlainen'"
      ]
     },
     "execution_count": 6,
     "metadata": {},
     "output_type": "execute_result"
    }
   ],
   "source": [
    "# if I want to get a feature of a word in a sentence, i will use:\n",
    "data_dic[2][1]['lemma']"
   ]
  },
  {
   "cell_type": "markdown",
   "metadata": {},
   "source": [
    "### Procedure\n",
    "Here we have a task on sequence labelling, where we can use, for example, HMM with a bunch of chains of every feature sequence (I will be useing CRF, actually, as we have long-distance dependencies in the data). It seems easy at the first glance, nevertheless test data has only words.\n",
    "As our home task included training on features, we cannot predict features, and we will take the golden standard provided, and then use the semantic role columns from it as an exact test set, andall other info - as given data for prediction."
   ]
  },
  {
   "cell_type": "code",
   "execution_count": 7,
   "metadata": {
    "collapsed": true
   },
   "outputs": [],
   "source": [
    "url_gold = 'https://raw.githubusercontent.com/TurkuNLP/Finnish_PropBank/data/fipb-ud-test.conllu'\n",
    "data_test = requests.get(url_gold).text\n",
    "data_test = re.sub(r\" +\", r\"\\t\", data_test)\n",
    "data_test_dic = parse(data_test)"
   ]
  },
  {
   "cell_type": "code",
   "execution_count": 8,
   "metadata": {},
   "outputs": [
    {
     "data": {
      "text/plain": [
       "[OrderedDict([('id', 1),\n",
       "              ('form', 'Missään'),\n",
       "              ('lemma', 'mikään'),\n",
       "              ('upostag', 'PRON'),\n",
       "              ('xpostag', 'Pron'),\n",
       "              ('feats',\n",
       "               OrderedDict([('Case', 'Ine'),\n",
       "                            ('Number', 'Sing'),\n",
       "                            ('PronType', 'Ind')])),\n",
       "              ('head', 3),\n",
       "              ('deprel', 'nmod'),\n",
       "              ('deps', '3:PBArg_2'),\n",
       "              ('misc', None)]),\n",
       " OrderedDict([('id', 2),\n",
       "              ('form', 'ei'),\n",
       "              ('lemma', 'ei'),\n",
       "              ('upostag', 'VERB'),\n",
       "              ('xpostag', 'V'),\n",
       "              ('feats',\n",
       "               OrderedDict([('Negative', 'Neg'),\n",
       "                            ('Number', 'Sing'),\n",
       "                            ('Person', '3'),\n",
       "                            ('VerbForm', 'Fin'),\n",
       "                            ('Voice', 'Act')])),\n",
       "              ('head', 3),\n",
       "              ('deprel', 'neg'),\n",
       "              ('deps', '3:PBArgM_neg'),\n",
       "              ('misc', None)]),\n",
       " OrderedDict([('id', 3),\n",
       "              ('form', 'ollut'),\n",
       "              ('lemma', 'olla'),\n",
       "              ('upostag', 'VERB'),\n",
       "              ('xpostag', 'V'),\n",
       "              ('feats',\n",
       "               OrderedDict([('Case', 'Nom'),\n",
       "                            ('Degree', 'Pos'),\n",
       "                            ('Number', 'Sing'),\n",
       "                            ('PartForm', 'Past'),\n",
       "                            ('VerbForm', 'Part'),\n",
       "                            ('Voice', 'Act')])),\n",
       "              ('head', 0),\n",
       "              ('deprel', 'root'),\n",
       "              ('deps', None),\n",
       "              ('misc', OrderedDict([('PBSENSE', 'olla.2')]))]),\n",
       " OrderedDict([('id', 4),\n",
       "              ('form', 'mitään'),\n",
       "              ('lemma', 'mikään'),\n",
       "              ('upostag', 'PRON'),\n",
       "              ('xpostag', 'Pron'),\n",
       "              ('feats',\n",
       "               OrderedDict([('Case', 'Par'),\n",
       "                            ('Number', 'Sing'),\n",
       "                            ('PronType', 'Ind')])),\n",
       "              ('head', 5),\n",
       "              ('deprel', 'det'),\n",
       "              ('deps', None),\n",
       "              ('misc', None)]),\n",
       " OrderedDict([('id', 5),\n",
       "              ('form', 'katsottavaa'),\n",
       "              ('lemma', 'katsoa'),\n",
       "              ('upostag', 'VERB'),\n",
       "              ('xpostag', 'V'),\n",
       "              ('feats',\n",
       "               OrderedDict([('Case', 'Par'),\n",
       "                            ('Degree', 'Pos'),\n",
       "                            ('Number', 'Sing'),\n",
       "                            ('PartForm', 'Pres'),\n",
       "                            ('VerbForm', 'Part'),\n",
       "                            ('Voice', 'Pass')])),\n",
       "              ('head', 3),\n",
       "              ('deprel', 'nsubj'),\n",
       "              ('deps', '3:PBArg_1'),\n",
       "              ('misc',\n",
       "               OrderedDict([('PBSENSE', 'katsoa.1'), ('SpaceAfter', 'No')]))]),\n",
       " OrderedDict([('id', 6),\n",
       "              ('form', ';'),\n",
       "              ('lemma', ';'),\n",
       "              ('upostag', 'PUNCT'),\n",
       "              ('xpostag', 'Punct'),\n",
       "              ('feats', None),\n",
       "              ('head', 8),\n",
       "              ('deprel', 'punct'),\n",
       "              ('deps', None),\n",
       "              ('misc', None)]),\n",
       " OrderedDict([('id', 7),\n",
       "              ('form', 'ei'),\n",
       "              ('lemma', 'ei'),\n",
       "              ('upostag', 'VERB'),\n",
       "              ('xpostag', 'V'),\n",
       "              ('feats',\n",
       "               OrderedDict([('Negative', 'Neg'),\n",
       "                            ('Number', 'Sing'),\n",
       "                            ('Person', '3'),\n",
       "                            ('VerbForm', 'Fin'),\n",
       "                            ('Voice', 'Act')])),\n",
       "              ('head', 8),\n",
       "              ('deprel', 'neg'),\n",
       "              ('deps', None),\n",
       "              ('misc', None)]),\n",
       " OrderedDict([('id', 8),\n",
       "              ('form', 'raakalautakorokkeessa'),\n",
       "              ('lemma', 'raakalauta#koroke'),\n",
       "              ('upostag', 'NOUN'),\n",
       "              ('xpostag', 'N'),\n",
       "              ('feats', OrderedDict([('Case', 'Ine'), ('Number', 'Sing')])),\n",
       "              ('head', 1),\n",
       "              ('deprel', 'appos'),\n",
       "              ('deps', None),\n",
       "              ('misc', OrderedDict([('SpaceAfter', 'No')]))]),\n",
       " OrderedDict([('id', 9),\n",
       "              ('form', ','),\n",
       "              ('lemma', ','),\n",
       "              ('upostag', 'PUNCT'),\n",
       "              ('xpostag', 'Punct'),\n",
       "              ('feats', None),\n",
       "              ('head', 8),\n",
       "              ('deprel', 'punct'),\n",
       "              ('deps', None),\n",
       "              ('misc', None)]),\n",
       " OrderedDict([('id', 10),\n",
       "              ('form', 'ei'),\n",
       "              ('lemma', 'ei'),\n",
       "              ('upostag', 'VERB'),\n",
       "              ('xpostag', 'V'),\n",
       "              ('feats',\n",
       "               OrderedDict([('Negative', 'Neg'),\n",
       "                            ('Number', 'Sing'),\n",
       "                            ('Person', '3'),\n",
       "                            ('VerbForm', 'Fin'),\n",
       "                            ('Voice', 'Act')])),\n",
       "              ('head', 14),\n",
       "              ('deprel', 'neg'),\n",
       "              ('deps', None),\n",
       "              ('misc', None)]),\n",
       " OrderedDict([('id', 11),\n",
       "              ('form', 'mustissa'),\n",
       "              ('lemma', 'musta'),\n",
       "              ('upostag', 'ADJ'),\n",
       "              ('xpostag', 'A'),\n",
       "              ('feats',\n",
       "               OrderedDict([('Case', 'Ine'),\n",
       "                            ('Degree', 'Pos'),\n",
       "                            ('Number', 'Plur')])),\n",
       "              ('head', 14),\n",
       "              ('deprel', 'amod'),\n",
       "              ('deps', None),\n",
       "              ('misc', None)]),\n",
       " OrderedDict([('id', 12),\n",
       "              ('form', 'tilaa'),\n",
       "              ('lemma', 'tila'),\n",
       "              ('upostag', 'NOUN'),\n",
       "              ('xpostag', 'N'),\n",
       "              ('feats', OrderedDict([('Case', 'Par'), ('Number', 'Sing')])),\n",
       "              ('head', 13),\n",
       "              ('deprel', 'dobj'),\n",
       "              ('deps', '13:PBArg_1'),\n",
       "              ('misc', None)]),\n",
       " OrderedDict([('id', 13),\n",
       "              ('form', 'rajaavissa'),\n",
       "              ('lemma', 'rajata'),\n",
       "              ('upostag', 'VERB'),\n",
       "              ('xpostag', 'V'),\n",
       "              ('feats',\n",
       "               OrderedDict([('Case', 'Ine'),\n",
       "                            ('Degree', 'Pos'),\n",
       "                            ('Number', 'Plur'),\n",
       "                            ('PartForm', 'Pres'),\n",
       "                            ('VerbForm', 'Part'),\n",
       "                            ('Voice', 'Act')])),\n",
       "              ('head', 14),\n",
       "              ('deprel', 'acl'),\n",
       "              ('deps', None),\n",
       "              ('misc', OrderedDict([('PBSENSE', 'rajata.1')]))]),\n",
       " OrderedDict([('id', 14),\n",
       "              ('form', 'verhoissa'),\n",
       "              ('lemma', 'verho'),\n",
       "              ('upostag', 'NOUN'),\n",
       "              ('xpostag', 'N'),\n",
       "              ('feats', OrderedDict([('Case', 'Ine'), ('Number', 'Plur')])),\n",
       "              ('head', 8),\n",
       "              ('deprel', 'conj'),\n",
       "              ('deps', '1:appos|13:PBArg_0'),\n",
       "              ('misc', OrderedDict([('SpaceAfter', 'No')]))]),\n",
       " OrderedDict([('id', 15),\n",
       "              ('form', ','),\n",
       "              ('lemma', ','),\n",
       "              ('upostag', 'PUNCT'),\n",
       "              ('xpostag', 'Punct'),\n",
       "              ('feats', None),\n",
       "              ('head', 8),\n",
       "              ('deprel', 'punct'),\n",
       "              ('deps', None),\n",
       "              ('misc', None)]),\n",
       " OrderedDict([('id', 16),\n",
       "              ('form', 'ei'),\n",
       "              ('lemma', 'ei'),\n",
       "              ('upostag', 'VERB'),\n",
       "              ('xpostag', 'V'),\n",
       "              ('feats',\n",
       "               OrderedDict([('Negative', 'Neg'),\n",
       "                            ('Number', 'Sing'),\n",
       "                            ('Person', '3'),\n",
       "                            ('VerbForm', 'Fin'),\n",
       "                            ('Voice', 'Act')])),\n",
       "              ('head', 18),\n",
       "              ('deprel', 'neg'),\n",
       "              ('deps', None),\n",
       "              ('misc', None)]),\n",
       " OrderedDict([('id', 17),\n",
       "              ('form', 'näyttelijöiden'),\n",
       "              ('lemma', 'näyttelijä'),\n",
       "              ('upostag', 'NOUN'),\n",
       "              ('xpostag', 'N'),\n",
       "              ('feats', OrderedDict([('Case', 'Gen'), ('Number', 'Plur')])),\n",
       "              ('head', 18),\n",
       "              ('deprel', 'nmod:poss'),\n",
       "              ('deps', None),\n",
       "              ('misc', None)]),\n",
       " OrderedDict([('id', 18),\n",
       "              ('form', 'puvuissa'),\n",
       "              ('lemma', 'puku'),\n",
       "              ('upostag', 'NOUN'),\n",
       "              ('xpostag', 'N'),\n",
       "              ('feats', OrderedDict([('Case', 'Ine'), ('Number', 'Plur')])),\n",
       "              ('head', 8),\n",
       "              ('deprel', 'conj'),\n",
       "              ('deps', '1:appos'),\n",
       "              ('misc', OrderedDict([('SpaceAfter', 'No')]))]),\n",
       " OrderedDict([('id', 19),\n",
       "              ('form', '.'),\n",
       "              ('lemma', '.'),\n",
       "              ('upostag', 'PUNCT'),\n",
       "              ('xpostag', 'Punct'),\n",
       "              ('feats', None),\n",
       "              ('head', 3),\n",
       "              ('deprel', 'punct'),\n",
       "              ('deps', None),\n",
       "              ('misc', None)])]"
      ]
     },
     "execution_count": 8,
     "metadata": {},
     "output_type": "execute_result"
    }
   ],
   "source": [
    "data_test_dic[5]"
   ]
  },
  {
   "cell_type": "markdown",
   "metadata": {},
   "source": [
    "### Data preparation and additional feature extraction"
   ]
  },
  {
   "cell_type": "code",
   "execution_count": null,
   "metadata": {
    "collapsed": true
   },
   "outputs": [],
   "source": []
  },
  {
   "cell_type": "code",
   "execution_count": 9,
   "metadata": {
    "collapsed": true
   },
   "outputs": [],
   "source": [
    "# returning training features\n",
    "# Training features: id, form, lemma, upostag, xpostag, feats, head, misc\n",
    "def word2features(sent, i):\n",
    "    id = sent[i]['id']\n",
    "    word = sent[i]['form']\n",
    "    lemma = sent[i]['lemma']\n",
    "    upostag = sent[i]['upostag']\n",
    "    xpostag = sent[i]['xpostag']\n",
    "    #feats = sent[i]['feats'] - I will not include feats as they have dictionary format\n",
    "    head = sent[i]['head']\n",
    "    misc = sent[i]['misc']\n",
    "\n",
    "    # Common features for all words\n",
    "    features = [\n",
    "        'word.id=' + str(id),\n",
    "        'word.lower=' + word.lower(),\n",
    "        'word.lemma=%s' % lemma,\n",
    "        'word.upostag=%s' % upostag,\n",
    "        'word.xpostag=%s' % xpostag,\n",
    "        'word.head=%s' % head,\n",
    "        'word.misc=%s' % misc\n",
    "    ]\n",
    "\n",
    "\n",
    "    return features"
   ]
  },
  {
   "cell_type": "code",
   "execution_count": 13,
   "metadata": {
    "collapsed": true
   },
   "outputs": [],
   "source": [
    "# returning training features\n",
    "# Testing - deprel and deps\n",
    "def word2label1(sent, i):\n",
    "\n",
    "    # labels for all words\n",
    "    feature = 'word.deprel=%s' % sent[i]['deprel']\n",
    "\n",
    "\n",
    "    return feature\n",
    "\n",
    "def word2label2(sent, i):\n",
    "    \n",
    "    # labels for all words\n",
    "    feature = 'word.deps=%s' % sent[i]['deps']\n",
    "    return feature"
   ]
  },
  {
   "cell_type": "code",
   "execution_count": 14,
   "metadata": {
    "collapsed": true
   },
   "outputs": [],
   "source": [
    "# A function for extracting features in documents\n",
    "def extract_features(sent):\n",
    "    return [word2features(sent, i) for i in range(len(sent))]\n",
    "\n",
    "# A function fo generating the list of labels for each document\n",
    "def get_label1(sent):\n",
    "    return [word2label1(sent, i) for i in range(len(sent))]\n",
    "def get_label2(sent):\n",
    "    return [word2label2(sent, i) for i in range(len(sent))]"
   ]
  },
  {
   "cell_type": "code",
   "execution_count": 15,
   "metadata": {},
   "outputs": [],
   "source": [
    "X_train = [extract_features(doc) for doc in data_dic]\n",
    "y_train = [get_label1(doc) for doc in data_dic]\n",
    "\n",
    "X_test = [extract_features(doc) for doc in data_test_dic]\n",
    "y_test = [get_label1(doc) for doc in data_test_dic]"
   ]
  },
  {
   "cell_type": "code",
   "execution_count": 16,
   "metadata": {},
   "outputs": [
    {
     "data": {
      "text/plain": [
       "['word.deprel=advmod',\n",
       " 'word.deprel=xcomp',\n",
       " 'word.deprel=nsubj',\n",
       " 'word.deprel=advmod',\n",
       " 'word.deprel=root',\n",
       " 'word.deprel=punct']"
      ]
     },
     "execution_count": 16,
     "metadata": {},
     "output_type": "execute_result"
    }
   ],
   "source": [
    "y_train[3]"
   ]
  },
  {
   "cell_type": "code",
   "execution_count": 17,
   "metadata": {},
   "outputs": [
    {
     "data": {
      "text/plain": [
       "[['word.id=1',\n",
       "  'word.lower=kuinka',\n",
       "  'word.lemma=kuinka',\n",
       "  'word.upostag=ADV',\n",
       "  'word.xpostag=Adv',\n",
       "  'word.head=2',\n",
       "  'word.misc=None'],\n",
       " ['word.id=2',\n",
       "  'word.lower=erilaiselta',\n",
       "  'word.lemma=erilainen',\n",
       "  'word.upostag=ADJ',\n",
       "  'word.xpostag=A',\n",
       "  'word.head=5',\n",
       "  'word.misc=None'],\n",
       " ['word.id=3',\n",
       "  'word.lower=maailma',\n",
       "  'word.lemma=maailma',\n",
       "  'word.upostag=NOUN',\n",
       "  'word.xpostag=N',\n",
       "  'word.head=5',\n",
       "  'word.misc=None'],\n",
       " ['word.id=4',\n",
       "  'word.lower=sieltä',\n",
       "  'word.lemma=sieltä',\n",
       "  'word.upostag=ADV',\n",
       "  'word.xpostag=Adv',\n",
       "  'word.head=5',\n",
       "  'word.misc=None'],\n",
       " ['word.id=5',\n",
       "  'word.lower=näyttikään',\n",
       "  'word.lemma=näyttää',\n",
       "  'word.upostag=VERB',\n",
       "  'word.xpostag=V',\n",
       "  'word.head=0',\n",
       "  \"word.misc=OrderedDict([('PBSENSE', 'näyttää.3'), ('SpaceAfter', 'No')])\"],\n",
       " ['word.id=6',\n",
       "  'word.lower=.',\n",
       "  'word.lemma=.',\n",
       "  'word.upostag=PUNCT',\n",
       "  'word.xpostag=Punct',\n",
       "  'word.head=5',\n",
       "  'word.misc=None']]"
      ]
     },
     "execution_count": 17,
     "metadata": {},
     "output_type": "execute_result"
    }
   ],
   "source": [
    "X_train[3]"
   ]
  },
  {
   "cell_type": "markdown",
   "metadata": {},
   "source": [
    "### Training"
   ]
  },
  {
   "cell_type": "markdown",
   "metadata": {},
   "source": [
    "#### First of all, we will try to guess only deprel labels"
   ]
  },
  {
   "cell_type": "code",
   "execution_count": 18,
   "metadata": {},
   "outputs": [
    {
     "name": "stdout",
     "output_type": "stream",
     "text": [
      "Feature generation\n",
      "type: CRF1d\n",
      "feature.minfreq: 0.000000\n",
      "feature.possible_states: 0\n",
      "feature.possible_transitions: 1\n",
      "0....1....2....3....4....5....6....7....8....9....10\n",
      "Number of features: 116800\n",
      "Seconds required: 0.353\n",
      "\n",
      "L-BFGS optimization\n",
      "c1: 0.100000\n",
      "c2: 0.010000\n",
      "num_memories: 6\n",
      "max_iterations: 200\n",
      "epsilon: 0.000010\n",
      "stop: 10\n",
      "delta: 0.000010\n",
      "linesearch: MoreThuente\n",
      "linesearch.max_iterations: 20\n",
      "\n"
     ]
    }
   ],
   "source": [
    "\n",
    "trainer = pycrfsuite.Trainer(verbose=True)\n",
    "\n",
    "# Submit training data to the trainer\n",
    "for xseq, yseq in zip(X_train, y_train):\n",
    "    trainer.append(xseq, yseq)\n",
    "\n",
    "# Set the parameters of the model\n",
    "trainer.set_params({\n",
    "    # coefficient for L1 penalty\n",
    "    'c1': 0.1,\n",
    "\n",
    "    # coefficient for L2 penalty\n",
    "    'c2': 0.01,  \n",
    "\n",
    "    # maximum number of iterations\n",
    "    'max_iterations': 200,\n",
    "\n",
    "    # whether to include transitions that\n",
    "    # are possible, but not observed\n",
    "    'feature.possible_transitions': True\n",
    "})\n",
    "\n",
    "# Provide a file name as a parameter to the train function, such that\n",
    "# the model will be saved to the file when training is finished\n",
    "trainer.train('crf_deprel.model')\n",
    "\n"
   ]
  },
  {
   "cell_type": "markdown",
   "metadata": {},
   "source": [
    "#### Then depr labels"
   ]
  },
  {
   "cell_type": "code",
   "execution_count": 19,
   "metadata": {},
   "outputs": [],
   "source": [
    "X_train2 = [extract_features(doc) for doc in data_dic]\n",
    "y_train2 = [get_label2(doc) for doc in data_dic]\n",
    "\n",
    "X_test2 = [extract_features(doc) for doc in data_test_dic]\n",
    "y_test2 = [get_label2(doc) for doc in data_test_dic]"
   ]
  },
  {
   "cell_type": "code",
   "execution_count": 20,
   "metadata": {},
   "outputs": [
    {
     "name": "stdout",
     "output_type": "stream",
     "text": [
      "Feature generation\n",
      "type: CRF1d\n",
      "feature.minfreq: 0.000000\n",
      "feature.possible_states: 0\n",
      "feature.possible_transitions: 1\n",
      "0....1....2....3....4....5....6....7....8....9....10\n",
      "\n"
     ]
    },
    {
     "name": "stdout",
     "output_type": "stream",
     "text": [
      "***** Iteration #46 *****\n",
      "\n"
     ]
    }
   ],
   "source": [
    "\n",
    "trainer2 = pycrfsuite.Trainer(verbose=True)\n",
    "\n",
    "# Submit training data to the trainer\n",
    "for xseq, yseq in zip(X_train, y_train):\n",
    "    trainer2.append(xseq, yseq)\n",
    "\n",
    "# Set the parameters of the model\n",
    "trainer2.set_params({\n",
    "    # coefficient for L1 penalty\n",
    "    'c1': 0.1,\n",
    "\n",
    "    # coefficient for L2 penalty\n",
    "    'c2': 0.01,  \n",
    "\n",
    "    # maximum number of iterations\n",
    "    'max_iterations': 200,\n",
    "\n",
    "    # whether to include transitions that\n",
    "    # are possible, but not observed\n",
    "    'feature.possible_transitions': True\n",
    "})\n",
    "\n",
    "# Provide a file name as a parameter to the train function, such that\n",
    "# the model will be saved to the file when training is finished\n",
    "trainer2.train('crf_deps.model')\n",
    "\n"
   ]
  },
  {
   "cell_type": "markdown",
   "metadata": {},
   "source": [
    "### Testing"
   ]
  },
  {
   "cell_type": "markdown",
   "metadata": {},
   "source": [
    "#### deprel labelling quality"
   ]
  },
  {
   "cell_type": "code",
   "execution_count": 21,
   "metadata": {},
   "outputs": [],
   "source": [
    "tagger = pycrfsuite.Tagger()\n",
    "tagger.open('crf_deprel.model')\n",
    "y_pred = [tagger.tag(xseq) for xseq in X_test]\n"
   ]
  },
  {
   "cell_type": "code",
   "execution_count": 22,
   "metadata": {},
   "outputs": [],
   "source": [
    "predictions =  [item for sublist in y_pred for item in sublist]# a flat list of all predicions\n",
    "y_test = [item for sublist in y_test for item in sublist] # a list of all gold labels"
   ]
  },
  {
   "cell_type": "code",
   "execution_count": 23,
   "metadata": {},
   "outputs": [
    {
     "name": "stdout",
     "output_type": "stream",
     "text": [
      "Quality on deprel\n",
      "Precision:   0.65\n",
      "Recall:   0.64\n",
      "F1-measure:   0.63\n",
      "Accuracy:   0.81\n",
      "                          precision    recall  f1-score   support\n",
      "\n",
      "         word.deprel=acl       0.76      0.84      0.79       159\n",
      "   word.deprel=acl:relcl       0.32      0.32      0.32        95\n",
      "       word.deprel=advcl       0.44      0.36      0.40       163\n",
      "      word.deprel=advmod       0.97      0.96      0.96       646\n",
      "        word.deprel=amod       0.93      0.97      0.95       429\n",
      "       word.deprel=appos       0.63      0.39      0.48        69\n",
      "         word.deprel=aux       0.98      0.89      0.93       147\n",
      "     word.deprel=auxpass       0.52      0.85      0.64        20\n",
      "        word.deprel=case       0.99      0.99      0.99       140\n",
      "          word.deprel=cc       0.98      0.99      0.98       383\n",
      "  word.deprel=cc:preconj       0.60      0.50      0.55         6\n",
      "       word.deprel=ccomp       0.38      0.28      0.32        95\n",
      "    word.deprel=compound       0.88      0.68      0.76        62\n",
      " word.deprel=compound:nn       0.81      0.50      0.62        52\n",
      "word.deprel=compound:prt       0.78      1.00      0.88         7\n",
      "        word.deprel=conj       0.65      0.66      0.66       529\n",
      "         word.deprel=cop       0.97      0.98      0.98       189\n",
      "       word.deprel=csubj       0.00      0.00      0.00         6\n",
      "   word.deprel=csubj:cop       0.22      0.33      0.27         6\n",
      "         word.deprel=det       0.84      0.87      0.85       169\n",
      "   word.deprel=discourse       0.92      0.92      0.92        13\n",
      "        word.deprel=dobj       0.57      0.50      0.53       494\n",
      "     word.deprel=foreign       0.64      1.00      0.78         7\n",
      "    word.deprel=goeswith       0.00      0.00      0.00         1\n",
      "        word.deprel=mark       0.97      1.00      0.99       187\n",
      "         word.deprel=mwe       0.67      0.74      0.70        19\n",
      "        word.deprel=name       0.55      0.80      0.65        59\n",
      "         word.deprel=neg       0.98      0.96      0.97        89\n",
      "        word.deprel=nmod       0.70      0.75      0.72      1115\n",
      "   word.deprel=nmod:gobj       0.33      0.13      0.18        79\n",
      "  word.deprel=nmod:gsubj       0.00      0.00      0.00        13\n",
      "    word.deprel=nmod:own       0.57      0.36      0.44        11\n",
      "   word.deprel=nmod:poss       0.71      0.81      0.76       500\n",
      "       word.deprel=nsubj       0.68      0.70      0.69       588\n",
      "   word.deprel=nsubj:cop       0.83      0.75      0.79       162\n",
      "      word.deprel=nummod       0.84      0.90      0.87       186\n",
      "   word.deprel=parataxis       0.51      0.40      0.45        47\n",
      "       word.deprel=punct       1.00      1.00      1.00      1357\n",
      "     word.deprel=remnant       0.14      0.11      0.12        19\n",
      "        word.deprel=root       1.00      1.00      1.00       648\n",
      "    word.deprel=vocative       1.00      0.33      0.50         9\n",
      "       word.deprel=xcomp       0.58      0.64      0.61       119\n",
      "    word.deprel=xcomp:ds       0.28      0.15      0.20        46\n",
      "\n",
      "             avg / total       0.81      0.81      0.81      9140\n",
      "\n"
     ]
    },
    {
     "name": "stderr",
     "output_type": "stream",
     "text": [
      "C:\\ProgramData\\Anaconda3\\lib\\site-packages\\sklearn\\metrics\\classification.py:1135: UndefinedMetricWarning: Precision is ill-defined and being set to 0.0 in labels with no predicted samples.\n",
      "  'precision', 'predicted', average, warn_for)\n",
      "C:\\ProgramData\\Anaconda3\\lib\\site-packages\\sklearn\\metrics\\classification.py:1135: UndefinedMetricWarning: F-score is ill-defined and being set to 0.0 in labels with no predicted samples.\n",
      "  'precision', 'predicted', average, warn_for)\n",
      "C:\\ProgramData\\Anaconda3\\lib\\site-packages\\sklearn\\metrics\\classification.py:1135: UndefinedMetricWarning: Precision and F-score are ill-defined and being set to 0.0 in labels with no predicted samples.\n",
      "  'precision', 'predicted', average, warn_for)\n"
     ]
    }
   ],
   "source": [
    "\n",
    "print(\"Quality on deprel\")\n",
    "print(\"Precision: {0:6.2f}\".format(precision_score(y_test, predictions, average='macro')))\n",
    "print(\"Recall: {0:6.2f}\".format(recall_score(y_test, predictions, average='macro')))\n",
    "print(\"F1-measure: {0:6.2f}\".format(f1_score(y_test, predictions, average='macro')))\n",
    "print(\"Accuracy: {0:6.2f}\".format(accuracy_score(y_test, predictions)))\n",
    "print(classification_report(y_test, predictions))"
   ]
  },
  {
   "cell_type": "markdown",
   "metadata": {},
   "source": [
    "### So we got 81% accuracy"
   ]
  },
  {
   "cell_type": "markdown",
   "metadata": {},
   "source": [
    "#### deps labelling quality"
   ]
  },
  {
   "cell_type": "code",
   "execution_count": 24,
   "metadata": {
    "collapsed": true
   },
   "outputs": [],
   "source": [
    "tagger2 = pycrfsuite.Tagger()\n",
    "tagger2.open('crf_deps.model')\n",
    "y_pred = [tagger2.tag(xseq) for xseq in X_test2]\n",
    "predictions =  [item for sublist in y_pred for item in sublist]# a flat list of all predicions\n",
    "y_test2 = [item for sublist in y_test2 for item in sublist] # a list of all gold labels"
   ]
  },
  {
   "cell_type": "code",
   "execution_count": 25,
   "metadata": {},
   "outputs": [
    {
     "name": "stdout",
     "output_type": "stream",
     "text": [
      "Quality on deps\n",
      "Precision:   0.65\n",
      "Recall:   0.64\n",
      "F1-measure:   0.63\n",
      "Accuracy:   0.81\n",
      "                          precision    recall  f1-score   support\n",
      "\n",
      "         word.deprel=acl       0.76      0.84      0.79       159\n",
      "   word.deprel=acl:relcl       0.32      0.32      0.32        95\n",
      "       word.deprel=advcl       0.44      0.36      0.40       163\n",
      "      word.deprel=advmod       0.97      0.96      0.96       646\n",
      "        word.deprel=amod       0.93      0.97      0.95       429\n",
      "       word.deprel=appos       0.63      0.39      0.48        69\n",
      "         word.deprel=aux       0.98      0.89      0.93       147\n",
      "     word.deprel=auxpass       0.52      0.85      0.64        20\n",
      "        word.deprel=case       0.99      0.99      0.99       140\n",
      "          word.deprel=cc       0.98      0.99      0.98       383\n",
      "  word.deprel=cc:preconj       0.60      0.50      0.55         6\n",
      "       word.deprel=ccomp       0.38      0.28      0.32        95\n",
      "    word.deprel=compound       0.88      0.68      0.76        62\n",
      " word.deprel=compound:nn       0.81      0.50      0.62        52\n",
      "word.deprel=compound:prt       0.78      1.00      0.88         7\n",
      "        word.deprel=conj       0.65      0.66      0.66       529\n",
      "         word.deprel=cop       0.97      0.98      0.98       189\n",
      "       word.deprel=csubj       0.00      0.00      0.00         6\n",
      "   word.deprel=csubj:cop       0.22      0.33      0.27         6\n",
      "         word.deprel=det       0.84      0.87      0.85       169\n",
      "   word.deprel=discourse       0.92      0.92      0.92        13\n",
      "        word.deprel=dobj       0.57      0.50      0.53       494\n",
      "     word.deprel=foreign       0.64      1.00      0.78         7\n",
      "    word.deprel=goeswith       0.00      0.00      0.00         1\n",
      "        word.deprel=mark       0.97      1.00      0.99       187\n",
      "         word.deprel=mwe       0.67      0.74      0.70        19\n",
      "        word.deprel=name       0.55      0.80      0.65        59\n",
      "         word.deprel=neg       0.98      0.96      0.97        89\n",
      "        word.deprel=nmod       0.70      0.75      0.72      1115\n",
      "   word.deprel=nmod:gobj       0.33      0.13      0.18        79\n",
      "  word.deprel=nmod:gsubj       0.00      0.00      0.00        13\n",
      "    word.deprel=nmod:own       0.57      0.36      0.44        11\n",
      "   word.deprel=nmod:poss       0.71      0.81      0.76       500\n",
      "       word.deprel=nsubj       0.68      0.70      0.69       588\n",
      "   word.deprel=nsubj:cop       0.83      0.75      0.79       162\n",
      "      word.deprel=nummod       0.84      0.90      0.87       186\n",
      "   word.deprel=parataxis       0.51      0.40      0.45        47\n",
      "       word.deprel=punct       1.00      1.00      1.00      1357\n",
      "     word.deprel=remnant       0.14      0.11      0.12        19\n",
      "        word.deprel=root       1.00      1.00      1.00       648\n",
      "    word.deprel=vocative       1.00      0.33      0.50         9\n",
      "       word.deprel=xcomp       0.58      0.64      0.61       119\n",
      "    word.deprel=xcomp:ds       0.28      0.15      0.20        46\n",
      "\n",
      "             avg / total       0.81      0.81      0.81      9140\n",
      "\n"
     ]
    },
    {
     "name": "stderr",
     "output_type": "stream",
     "text": [
      "C:\\ProgramData\\Anaconda3\\lib\\site-packages\\sklearn\\metrics\\classification.py:1135: UndefinedMetricWarning: Precision is ill-defined and being set to 0.0 in labels with no predicted samples.\n",
      "  'precision', 'predicted', average, warn_for)\n",
      "C:\\ProgramData\\Anaconda3\\lib\\site-packages\\sklearn\\metrics\\classification.py:1135: UndefinedMetricWarning: F-score is ill-defined and being set to 0.0 in labels with no predicted samples.\n",
      "  'precision', 'predicted', average, warn_for)\n",
      "C:\\ProgramData\\Anaconda3\\lib\\site-packages\\sklearn\\metrics\\classification.py:1135: UndefinedMetricWarning: Precision and F-score are ill-defined and being set to 0.0 in labels with no predicted samples.\n",
      "  'precision', 'predicted', average, warn_for)\n"
     ]
    }
   ],
   "source": [
    "\n",
    "print(\"Quality on deps\")\n",
    "print(\"Precision: {0:6.2f}\".format(precision_score(y_test2, predictions, average='macro')))\n",
    "print(\"Recall: {0:6.2f}\".format(recall_score(y_test2, predictions, average='macro')))\n",
    "print(\"F1-measure: {0:6.2f}\".format(f1_score(y_test2, predictions, average='macro')))\n",
    "print(\"Accuracy: {0:6.2f}\".format(accuracy_score(y_test2, predictions)))\n",
    "print(classification_report(y_test, predictions))"
   ]
  },
  {
   "cell_type": "code",
   "execution_count": null,
   "metadata": {
    "collapsed": true
   },
   "outputs": [],
   "source": []
  }
 ],
 "metadata": {
  "kernelspec": {
   "display_name": "Python 3",
   "language": "python",
   "name": "python3"
  },
  "language_info": {
   "codemirror_mode": {
    "name": "ipython",
    "version": 3
   },
   "file_extension": ".py",
   "mimetype": "text/x-python",
   "name": "python",
   "nbconvert_exporter": "python",
   "pygments_lexer": "ipython3",
   "version": "3.6.1"
  }
 },
 "nbformat": 4,
 "nbformat_minor": 2
}

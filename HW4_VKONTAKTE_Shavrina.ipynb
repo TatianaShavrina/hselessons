{
 "cells": [
  {
   "cell_type": "markdown",
   "metadata": {},
   "source": [
    "### Домашнее задание по ВКонтакте\n",
    "\n",
    "Шаврина Татьяна\n",
    "\n",
    "Сообщество - \"badcomedian\"\n",
    "https://vk.com/badcomedian"
   ]
  },
  {
   "cell_type": "markdown",
   "metadata": {},
   "source": [
    "1. Написать программу, которая обращается к открытому (то есть такому, чтобы для просмотра контента не нужна была авторизация) сообществу VK.com, выкачивает посты со стены и комментарии к ним. Выберите сообщество поживее, чтобы там было много постов и много комментариев к ним. Обязательное условие: программа должна уметь скачивать со стены больше, чем 100 постов, и больше, чем 100 комментариев к посту (если их действительно больше 100).\n",
    "Чтобы не было скучно, посчитайте питоном и сложите в репозиторий в виде csv (или tsv) -таблиц длину каждого поста и каждого комментария в словах (для постов и комментариев отдельные таблицы), а потом с помощью того, что вы изучили на курсе анализа данных (то есть используя R) выведите некоторые графики описательной статистики по этому поводу. Ну, например, гистограмму длины постов и гистограмму длины комментариев. Графики, как и таблицы, на которых они будут построены, нужно положить в папку с домашним заданием, а также встроить в README.md-файл папки с домашним заданием. Как встраивать картинки в маркдаун, можно посмотреть, например, тут. Сами скачанные тексты прикладывать не нужно.\n",
    "\n",
    "2. Усовершенствовать программу из первой части задания так, чтобы она не просто выкачивала посты и комментарии, но и смотрела в профиль пользователя, который написал пост или сделал комментарий, и узнавала о нём социолингвистическую информацию: возраст и город (если они указаны). Для города достаточно id (то есть название узнавать не обязательно, хотя это можно сделать средствами API), а возраст нужно уметь вычислять. \n",
    "Для каждого возраста нужно вычислить среднюю длину поста и комментария, нарисовать график (средствами R), отражающий эту информацию. Исходные данные в виде таблицы положить в репозиторий, а графики встроить в README.md-файл папки с домашним заданием. Сами скачанные тексты выкладывать не нужно."
   ]
  },
  {
   "cell_type": "code",
   "execution_count": 1,
   "metadata": {
    "collapsed": true
   },
   "outputs": [],
   "source": [
    "import json\n",
    "import urllib.request\n",
    "import requests\n",
    "import re"
   ]
  },
  {
   "cell_type": "code",
   "execution_count": 2,
   "metadata": {
    "collapsed": true
   },
   "outputs": [],
   "source": [
    "def GetUser(userid):\n",
    "    url = u'https://api.vk.com/method/users.get?'\n",
    "    url = url + \"user_ids=\" +  str(userid) + \"&fields=bdate,city\"\n",
    "    res = urllib.request.urlopen(url).read().decode('utf-8')\n",
    "    info = json.loads(res)\n",
    "    \n",
    "    if 'bdate' in info['response'][0]:\n",
    "        date = info['response'][0]['bdate']\n",
    "        if len(date.split(\".\"))<3:\n",
    "            age = \"None\"\n",
    "        else:\n",
    "            if int(date.split(\".\")[1])<4:\n",
    "                age = str(2017-int(date.split(\".\")[2]))\n",
    "            else:\n",
    "                age = str(2016-int(date.split(\".\")[2]))\n",
    "        \n",
    "    else:\n",
    "        age = \"None\"\n",
    "    city = str(info['response'][0]['city'])\n",
    "\n",
    "    return[age,city]"
   ]
  },
  {
   "cell_type": "code",
   "execution_count": 3,
   "metadata": {
    "collapsed": true
   },
   "outputs": [],
   "source": [
    "def Counter(line):\n",
    "    length = str(len(line.split(\" \")))\n",
    "    return(length)"
   ]
  },
  {
   "cell_type": "code",
   "execution_count": 11,
   "metadata": {
    "collapsed": false
   },
   "outputs": [],
   "source": [
    "def GetComments(postid):\n",
    "    commentstable = open('/home/mi_air/Desktop/progr/bc_wall_comments.csv', 'a', encoding='utf-8')\n",
    "    url = u'https://api.vk.com/method/wall.getComments?'\n",
    "    i=0\n",
    "    while i<1000:\n",
    "        url = url + \"owner_id=-25557243&post_id=\" + str(postid) +\"&offset=\" + str(i) + \"&count=100\"\n",
    "        res = urllib.request.urlopen(url).read().decode('utf-8')\n",
    "        wall = json.loads(res)\n",
    "        for j in range(1,100):\n",
    "            try:\n",
    "                lst = []\n",
    "                groupid = \"-25557243\"\n",
    "                commid = str(wall['response'][j]['cid'])\n",
    "                text  = wall['response'][j]['text']\n",
    "                length = Counter(text)\n",
    "                authorid = str(wall['response'][j]['from_id'])\n",
    "                age,city = GetUser(authorid)\n",
    "                lst.append(groupid)\n",
    "                lst.append(postid)\n",
    "                lst.append(commid)\n",
    "                lst.append(length)\n",
    "                lst.append(authorid)\n",
    "                lst.append(str(age))\n",
    "                lst.append(str(city))\n",
    "                stroka = \"\\t\".join(lst)\n",
    "                commentstable.write(stroka + \"\\n\")\n",
    "                print(stroka)\n",
    "            except:\n",
    "                pass\n",
    "        i+=100\n",
    "    commentstable.close()"
   ]
  },
  {
   "cell_type": "code",
   "execution_count": 6,
   "metadata": {
    "collapsed": true
   },
   "outputs": [],
   "source": [
    "def GetPosts(groupid):\n",
    "    poststable = open('/home/mi_air/Desktop/progr/bc_wall_posts.csv', 'a', encoding='utf-8')\n",
    "    url = u'https://api.vk.com/method/wall.get?'\n",
    "\n",
    "    i=0\n",
    "    while i<1000:\n",
    "\n",
    "        url = url + \"owner_id=\" +str(groupid) + \"&offset=\" + str(i) + \"&count=100\"\n",
    "        res = urllib.request.urlopen(url).read().decode('utf-8')\n",
    "        wall = json.loads(res)\n",
    "        for j in range(1,100):\n",
    "            groupid = \"-25557243\"\n",
    "            postid = str(wall['response'][j]['id'])            \n",
    "            text  = wall['response'][j]['text']\n",
    "            if \"signer_id\" in wall['response'][j]:\n",
    "                authorid = str(wall['response'][j]['signer_id'])\n",
    "                age,city = GetUser(authorid)\n",
    "            else:\n",
    "                authorid = \"None\"\n",
    "                age,city = \"None\",\"None\"\n",
    "            comments = wall['response'][j]['comments']['count']\n",
    "            if comments>0:\n",
    "                GetComments(postid)\n",
    "            likes = str(wall['response'][j]['likes']['count'])\n",
    "            length = Counter(text)\n",
    "            stroka = \"\\t\".join(lst)\n",
    "            poststable.write(stroka + \"\\n\") \n",
    "            print(stroka)\n",
    "\n",
    "        i+=100\n",
    "    poststable.close()"
   ]
  },
  {
   "cell_type": "code",
   "execution_count": 6,
   "metadata": {
    "collapsed": false
   },
   "outputs": [],
   "source": [
    "#main\n",
    "\n",
    "commentstable = open('/home/mi_air/Desktop/progr/bc_wall_comments.csv', 'w', encoding='utf-8')\n",
    "poststable = open('/home/mi_air/Desktop/progr/bc_wall_posts.csv', 'w', encoding='utf-8')\n",
    "head = \"group id\" + \"\\t\" + \"post id\" + \"author id\" + \"\\t\" + \"age\" + \"\\t\" + \"city id\"+ \"\\t\" + \"comments\" + \"\\t\" + \"likes\"  + \"\\t\" + \"text length\" \n",
    "poststable.write(head + \"\\n\")\n",
    "head2 = \"group id\" + \"\\t\" + \"post id\" + \"\\t\" + \"comment id\" + \"\\t\" + \"text length\" +  \"\\t\" + \"author id\" + \"\\t\" + \"age\" + \"\\t\" + \"city id\"\n",
    "commentstable.write(head2 + \"\\n\")\n",
    "commentstable.close()\n",
    "poststable.close()\n",
    "\n",
    "\n"
   ]
  },
  {
   "cell_type": "code",
   "execution_count": 9,
   "metadata": {
    "collapsed": false,
    "scrolled": false
   },
   "outputs": [],
   "source": [
    "\n",
    "poststable = open('/home/mi_air/Desktop/progr/bc_wall_posts.csv', 'a', encoding='utf-8')\n",
    "url = u'https://api.vk.com/method/wall.get?'\n",
    "\n",
    "i=0\n",
    "while i<2000:\n",
    "\n",
    "    url = url + \"owner_id=-25557243\"  + \"&offset=\" + str(i) + \"&count=100\"\n",
    "    res = urllib.request.urlopen(url).read().decode('utf-8')\n",
    "    wall = json.loads(res)\n",
    "    for j in range(1,100):\n",
    "        lst = []\n",
    "        groupid = \"-25557243\"\n",
    "        lst.append(groupid)\n",
    "        postid = str(wall['response'][j]['id'])\n",
    "        lst.append(postid )\n",
    "        text  = wall['response'][j]['text']\n",
    "        if \"signer_id\" in wall['response'][j]:\n",
    "            authorid = str(wall['response'][j]['signer_id'])\n",
    "            age,city = GetUser(authorid)\n",
    "        else:\n",
    "            authorid = \"None\"\n",
    "            age,city = \"None\",\"None\"\n",
    "        lst.append(authorid)\n",
    "        lst.append(age)\n",
    "        lst.append(city)\n",
    "        comments = str(wall['response'][j]['comments']['count'])\n",
    "        lst.append(comments)\n",
    "        if int(comments)>0:\n",
    "            GetComments(postid)\n",
    "        likes = str(wall['response'][j]['likes']['count'])\n",
    "        lst.append(likes)\n",
    "        length = Counter(text)\n",
    "        lst.append(length)\n",
    "        stroka = \"\\t\".join(lst)\n",
    "        poststable.write(stroka+ \"\\n\") \n",
    "        print(stroka)\n",
    "\n",
    "    i+=100\n",
    "    #poststable.close()"
   ]
  },
  {
   "cell_type": "code",
   "execution_count": null,
   "metadata": {
    "collapsed": true
   },
   "outputs": [],
   "source": []
  }
 ],
 "metadata": {
  "anaconda-cloud": {},
  "kernelspec": {
   "display_name": "Python [default]",
   "language": "python",
   "name": "python3"
  },
  "language_info": {
   "codemirror_mode": {
    "name": "ipython",
    "version": 3
   },
   "file_extension": ".py",
   "mimetype": "text/x-python",
   "name": "python",
   "nbconvert_exporter": "python",
   "pygments_lexer": "ipython3",
   "version": "3.5.2"
  }
 },
 "nbformat": 4,
 "nbformat_minor": 2
}

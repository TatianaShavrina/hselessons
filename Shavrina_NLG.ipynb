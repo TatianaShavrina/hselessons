{
 "cells": [
  {
   "cell_type": "markdown",
   "metadata": {},
   "source": [
    "## NLG Task\n",
    "### Tatiana Shavrina\n",
    "\n",
    "To run this notebook, please change the data directory in main()"
   ]
  },
  {
   "cell_type": "code",
   "execution_count": null,
   "metadata": {},
   "outputs": [],
   "source": [
    "import re\n",
    "import os\n",
    "from nltk.tokenize import word_tokenize\n",
    "import sqlite3\n",
    "from bs4 import BeautifulSoup as bs"
   ]
  },
  {
   "cell_type": "markdown",
   "metadata": {},
   "source": [
    "In this notebook I would like to illustrate, how a QA-system can work, parsing triplets and putting them into database, as this is a fast way to get specified information"
   ]
  },
  {
   "cell_type": "code",
   "execution_count": null,
   "metadata": {},
   "outputs": [],
   "source": [
    "def search(lst, cur, con):\n",
    "    found_lst = []\n",
    "    status = ''\n",
    "    #try:\n",
    "    for w in lst:\n",
    "        try:\n",
    "            cur.execute(\"SELECT * FROM countries, cities where countries.countryname = cities.country and countries.countryname=\"+w)\n",
    "            status = 'country'\n",
    "            found_lst += cur.fetchall()\n",
    "            \n",
    "            con.commit()\n",
    "        except:\n",
    "            pass\n",
    "            \n",
    "        try:\n",
    "        \n",
    "            cur.execute(\"SELECT * FROM countries, cities where countries.countryname = cities.country and countries.language=\"+w)\n",
    "            status = 'language'\n",
    "            found_lst += cur.fetchall()\n",
    "           \n",
    "            con.commit()\n",
    "        except:\n",
    "            pass\n",
    "            \n",
    "        try:\n",
    "            cur.execute(\"SELECT * FROM countries, cities where countries.countryname = cities.country and cities.cityname=\"+w)\n",
    "            status = 'city'\n",
    "            found_lst += cur.fetchall()\n",
    "            \n",
    "            con.commit()\n",
    "        except:\n",
    "            pass\n",
    "            \n",
    "        try:\n",
    "            cur.execute(\"SELECT * FROM countries, cities where countries.countryname = cities.country and cities.airport=\"+w)\n",
    "            status = 'airport'\n",
    "            found_lst += cur.fetchall()\n",
    "            \n",
    "            con.commit()\n",
    "        except:\n",
    "            pass\n",
    "            \n",
    "        if len(found_lst)>0:\n",
    "            break\n",
    "    \"\"\"except:\n",
    "        found_lst = []\n",
    "        status = ''\"\"\"\n",
    "    return found_lst, status"
   ]
  },
  {
   "cell_type": "code",
   "execution_count": null,
   "metadata": {
    "collapsed": true
   },
   "outputs": [],
   "source": [
    "def question_type(words):\n",
    "    loc = ['where', 'what', 'is', 'situated', 'located', 'location', 'which', 'country', 'city']\n",
    "    lang = ['where', 'what', 'which', 'is', 'spoken', 'speak', 'language']\n",
    "    result1 = list(set(words) & set(loc))\n",
    "    result2 = list(set(words) & set(lang))\n",
    "    if len(result1)>len(result2):\n",
    "        return 'loc'\n",
    "    else:\n",
    "        return 'lang'"
   ]
  },
  {
   "cell_type": "code",
   "execution_count": null,
   "metadata": {
    "collapsed": true
   },
   "outputs": [],
   "source": [
    "def chatbot(question, cur, con):\n",
    "    words = word_tokenize(question)\n",
    "    data, status = search(words, cur, con)\n",
    "    qtype = question_type(words) #location or language\n",
    "    if data!=[]:\n",
    "        if status=='country':\n",
    "            if qtype == 'loc':\n",
    "                return \"Embarassing question...\"\n",
    "            else:\n",
    "                return data[1]+\" is spoken in \"+data[0]\n",
    "        elif status=='language':\n",
    "            if qtype == 'loc':\n",
    "                return data[1]+\" is spoken in \"+data[0]\n",
    "            else:\n",
    "                return \"Embarassing question...\"\n",
    "        elif status=='city':\n",
    "            if qtype == 'loc':\n",
    "                return data[2] +\" is situated in \"+data[0]\n",
    "            else:\n",
    "                return data[1]+\" is spoken in \"+data[2]\n",
    "        elif status=='airport':\n",
    "            if qtype == 'loc':\n",
    "                return data[-1] + \" is located in \"+data[2] +\", \"+data[0]\n",
    "            else:\n",
    "                return \"In airports they often speak English :)\"\n",
    "    else:\n",
    "        return \"I dont' know\"\n",
    "    \n",
    "    "
   ]
  },
  {
   "cell_type": "code",
   "execution_count": null,
   "metadata": {
    "collapsed": true
   },
   "outputs": [],
   "source": [
    "def getdata(datadir):\n",
    "    \n",
    "    traindir = datadir  + '/train/3triples/3triples_Airport_train_challenge.xml'\n",
    "    testdir = datadir + '/dev/3triples/3triples_Airport_dev_challenge.xml'\n",
    "    #filedir = join(traindir, file)\n",
    "    train = bs(open(traindir).read(), \"lxml\")\n",
    "    test = bs(open(testdir).read(), \"lxml\")\n",
    "    \n",
    "    train1 = train.benchmark.entries.findAll(\"entry\")\n",
    "    test1 = test.benchmark.entries.findAll(\"entry\")\n",
    "    \n",
    "    return train1, test1"
   ]
  },
  {
   "cell_type": "code",
   "execution_count": null,
   "metadata": {
    "collapsed": true
   },
   "outputs": [],
   "source": [
    "def getfeatures(xml):\n",
    "    con = sqlite3.connect('NLG.db')\n",
    "    cur = con.cursor()\n",
    "    cur.execute(\"CREATE TABLE CITIES ( CITYNAME VARCHAR  NOT NULL, COUNTRY VARCHAR, AIRPORT VARCHAR)\")\n",
    "    cur.execute(\"CREATE TABLE COUNTRIES (COUNTRYNAME VARCHAR NOT NULL, LANGUAGE VARCHAR)\")\n",
    "    \n",
    "    lst = xml\n",
    "    \n",
    "    for i in range(len(lst)):\n",
    "        triplets = [elem.split('</mtriple>')[0]  for elem in str(lst[i]).split('<mtriple>')[1:] ]\n",
    "        cityname,airport,country,language = '', '', '', ''\n",
    "        for j in triplets:\n",
    "            \n",
    "            l = j.split(' | ')\n",
    "            \n",
    "            if l[1]==\"location\" :\n",
    "                cityname = l[2].lower()# first - cityname\n",
    "                airport = l[2].lower()\n",
    "                \n",
    "                \n",
    "            elif l[1]==\"country\":\n",
    "                \n",
    "                country = l[2].lower()\n",
    "            elif l[1]=='language':\n",
    "                \n",
    "                language = l[2].lower().replace('_',' ')\n",
    "            \n",
    "        cur.execute(\"INSERT INTO cities values (?, ?, ?)\", (cityname, country, language))\n",
    "        cur.execute(\"INSERT INTO countries values (?, ?)\", (country, language))\n",
    "        con.commit()\n",
    "                \n",
    "    \n",
    "    return con, cur"
   ]
  },
  {
   "cell_type": "code",
   "execution_count": null,
   "metadata": {
    "collapsed": true
   },
   "outputs": [],
   "source": [
    "def __main__():\n",
    "    tf = True\n",
    "    datadir = r'/home/mi_air/Documents/HSE/corpus_linguistics/NLG/challenge_data_train_dev'\n",
    "    train, test = getdata(datadir)\n",
    "    #global train\n",
    "    #global test\n",
    "    con.commit()\n",
    "    while tf:\n",
    "        question = str(input('Place your question here: ')).lower()\n",
    "        if question !=\"\":\n",
    "            if question==\"q\":\n",
    "                tf = False\n",
    "                print('Thank you! Buy!')\n",
    "            else:\n",
    "                answer = chatbot(question, cur, con)\n",
    "                print(answer + '\\n')\n",
    "                \n",
    "        else:\n",
    "            question = str(input('Place your question here: (to quit, type Q)'))"
   ]
  },
  {
   "cell_type": "code",
   "execution_count": null,
   "metadata": {},
   "outputs": [],
   "source": [
    "if __name__==__main__():\n",
    "    __main__()"
   ]
  },
  {
   "cell_type": "code",
   "execution_count": null,
   "metadata": {
    "collapsed": true
   },
   "outputs": [],
   "source": []
  }
 ],
 "metadata": {
  "kernelspec": {
   "display_name": "Python 3",
   "language": "python",
   "name": "python3"
  },
  "language_info": {
   "codemirror_mode": {
    "name": "ipython",
    "version": 3
   },
   "file_extension": ".py",
   "mimetype": "text/x-python",
   "name": "python",
   "nbconvert_exporter": "python",
   "pygments_lexer": "ipython3",
   "version": "3.5.2"
  }
 },
 "nbformat": 4,
 "nbformat_minor": 2
}

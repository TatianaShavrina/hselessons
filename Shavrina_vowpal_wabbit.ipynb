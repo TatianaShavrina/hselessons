{
 "cells": [
  {
   "cell_type": "markdown",
   "metadata": {
    "deletable": true,
    "editable": true
   },
   "source": [
    "### Шаврина Татьяна\n",
    "### Классификация отзывов к фильмам с помощью Vowpal Wabbit\n"
   ]
  },
  {
   "cell_type": "code",
   "execution_count": 60,
   "metadata": {
    "collapsed": false,
    "deletable": true,
    "editable": true
   },
   "outputs": [
    {
     "name": "stdout",
     "output_type": "stream",
     "text": [
      "Populating the interactive namespace from numpy and matplotlib\n"
     ]
    }
   ],
   "source": [
    "from __future__ import division, print_function\n",
    "import warnings\n",
    "warnings.filterwarnings('ignore')\n",
    "%pylab inline\n",
    "import numpy as np\n",
    "import re\n",
    "import os\n",
    "from subprocess import check_output\n",
    "from sklearn.datasets import load_files\n",
    "from sklearn.feature_extraction.text import CountVectorizer, TfidfTransformer, TfidfVectorizer\n",
    "from sklearn.linear_model import LogisticRegression\n",
    "from sklearn.svm import LinearSVC\n",
    "from sklearn.metrics import roc_auc_score, roc_curve"
   ]
  },
  {
   "cell_type": "code",
   "execution_count": 36,
   "metadata": {
    "collapsed": false,
    "deletable": true,
    "editable": true
   },
   "outputs": [],
   "source": [
    "reviews_train = load_files(\"/home/mi_air/aclImdb/aclImdb/train\")\n",
    "text_train, y_train = reviews_train.data, reviews_train.target"
   ]
  },
  {
   "cell_type": "code",
   "execution_count": 37,
   "metadata": {
    "collapsed": false,
    "deletable": true,
    "editable": true
   },
   "outputs": [
    {
     "name": "stdout",
     "output_type": "stream",
     "text": [
      "Number of documents in training data: 25000\n",
      "[12500 12500]\n"
     ]
    }
   ],
   "source": [
    "print(\"Number of documents in training data: %d\" % len(text_train))\n",
    "print(np.bincount(y_train))"
   ]
  },
  {
   "cell_type": "code",
   "execution_count": 57,
   "metadata": {
    "collapsed": false,
    "deletable": true,
    "editable": true
   },
   "outputs": [
    {
     "name": "stdout",
     "output_type": "stream",
     "text": [
      "Number of documents in test data: 25000\n",
      "[12500 12500]\n"
     ]
    }
   ],
   "source": [
    "reviews_test = load_files(\"/home/mi_air/aclImdb//aclImdb/test\")\n",
    "text_test, y_test = reviews_test.data, reviews_test.target\n",
    "print(\"Number of documents in test data: %d\" % len(text_test))\n",
    "print(np.bincount(y_test))"
   ]
  },
  {
   "cell_type": "code",
   "execution_count": 58,
   "metadata": {
    "collapsed": false,
    "deletable": true,
    "editable": true
   },
   "outputs": [
    {
     "data": {
      "text/plain": [
       "array([1, 0, 1, ..., 0, 0, 0])"
      ]
     },
     "execution_count": 58,
     "metadata": {},
     "output_type": "execute_result"
    }
   ],
   "source": [
    "y_test"
   ]
  },
  {
   "cell_type": "markdown",
   "metadata": {
    "deletable": true,
    "editable": true
   },
   "source": [
    "**Пример отзыва и соответствующей метки.**"
   ]
  },
  {
   "cell_type": "code",
   "execution_count": 40,
   "metadata": {
    "collapsed": false,
    "deletable": true,
    "editable": true
   },
   "outputs": [
    {
     "data": {
      "text/plain": [
       "b'Words can\\'t describe how bad this movie is. I can\\'t explain it by writing only. You have too see it for yourself to get at grip of how horrible a movie really can be. Not that I recommend you to do that. There are so many clich\\xc3\\xa9s, mistakes (and all other negative things you can imagine) here that will just make you cry. To start with the technical first, there are a LOT of mistakes regarding the airplane. I won\\'t list them here, but just mention the coloring of the plane. They didn\\'t even manage to show an airliner in the colors of a fictional airline, but instead used a 747 painted in the original Boeing livery. Very bad. The plot is stupid and has been done many times before, only much, much better. There are so many ridiculous moments here that i lost count of it really early. Also, I was on the bad guys\\' side all the time in the movie, because the good guys were so stupid. \"Executive Decision\" should without a doubt be you\\'re choice over this one, even the \"Turbulence\"-movies are better. In fact, every other movie in the world is better than this one.'"
      ]
     },
     "execution_count": 40,
     "metadata": {},
     "output_type": "execute_result"
    }
   ],
   "source": [
    "text_train[1]"
   ]
  },
  {
   "cell_type": "code",
   "execution_count": 41,
   "metadata": {
    "collapsed": false,
    "deletable": true,
    "editable": true
   },
   "outputs": [
    {
     "data": {
      "text/plain": [
       "0"
      ]
     },
     "execution_count": 41,
     "metadata": {},
     "output_type": "execute_result"
    }
   ],
   "source": [
    "y_train[1] # плохой отзыв"
   ]
  },
  {
   "cell_type": "code",
   "execution_count": 42,
   "metadata": {
    "collapsed": false,
    "deletable": true,
    "editable": true
   },
   "outputs": [
    {
     "data": {
      "text/plain": [
       "b'Everyone plays their part pretty well in this \"little nice movie\". Belushi gets the chance to live part of his life differently, but ends up realizing that what he had was going to be just as good or maybe even better. The movie shows us that we ought to take advantage of the opportunities we have, not the ones we do not or cannot have. If U can get this movie on video for around $10, it\\xc2\\xb4d be an investment!'"
      ]
     },
     "execution_count": 42,
     "metadata": {},
     "output_type": "execute_result"
    }
   ],
   "source": [
    "text_train[2]"
   ]
  },
  {
   "cell_type": "code",
   "execution_count": 43,
   "metadata": {
    "collapsed": false,
    "deletable": true,
    "editable": true
   },
   "outputs": [
    {
     "data": {
      "text/plain": [
       "1"
      ]
     },
     "execution_count": 43,
     "metadata": {},
     "output_type": "execute_result"
    }
   ],
   "source": [
    "y_train[2] # хороший отзыв"
   ]
  },
  {
   "cell_type": "markdown",
   "metadata": {
    "deletable": true,
    "editable": true
   },
   "source": [
    "**Будем использовать функцию vowpalize, чтобы передать модели размеченные тексты.**"
   ]
  },
  {
   "cell_type": "code",
   "execution_count": 44,
   "metadata": {
    "collapsed": false,
    "deletable": true,
    "editable": true
   },
   "outputs": [],
   "source": [
    "def vowpalize(document, label=None):\n",
    "    return str(str(label) or '') + ' |text ' + ' '.join(re.findall('\\w{3,}', str(document).lower())) + '\\n'"
   ]
  },
  {
   "cell_type": "code",
   "execution_count": 45,
   "metadata": {
    "collapsed": false,
    "deletable": true,
    "editable": true
   },
   "outputs": [
    {
     "data": {
      "text/plain": [
       "'1 |text words can describe how bad this movie can explain writing only you have too see for yourself get grip how horrible movie really can not that recommend you that there are many clich xc3 xa9s mistakes and all other negative things you can imagine here that will just make you cry start with the technical first there are lot mistakes regarding the airplane won list them here but just mention the coloring the plane they didn even manage show airliner the colors fictional airline but instead used 747 painted the original boeing livery very bad the plot stupid and has been done many times before only much much better there are many ridiculous moments here that lost count really early also was the bad guys side all the time the movie because the good guys were stupid executive decision should without doubt you choice over this one even the turbulence movies are better fact every other movie the world better than this one\\n'"
      ]
     },
     "execution_count": 45,
     "metadata": {},
     "output_type": "execute_result"
    }
   ],
   "source": [
    "vowpalize(text_train[1], 1 if y_train[0] == 1 else -1)"
   ]
  },
  {
   "cell_type": "code",
   "execution_count": 46,
   "metadata": {
    "collapsed": false,
    "deletable": true,
    "editable": true
   },
   "outputs": [],
   "source": [
    "with open('/home/mi_air/aclImdb/aclImdb/output/movie_reviews_train.vw', 'w') as vw_train_data:\n",
    "     for text_train, y_train in zip(reviews_train.data, reviews_train.target):\n",
    "        vw_train_data.write(vowpalize(text_train, 1 if y_train == 1 else -1))\n",
    "with open('/home/mi_air/aclImdb/aclImdb/output/movie_reviews_test.vw', 'w') as vw_test_data:\n",
    "    for text_test, y_test in zip(reviews_test.data, reviews_test.target):\n",
    "        vw_test_data.write(vowpalize(text_test, 1 if y_train == 1 else -1))"
   ]
  },
  {
   "cell_type": "markdown",
   "metadata": {
    "deletable": true,
    "editable": true
   },
   "source": [
    "**Обучим модель Vowpal Wabbit. Передаем следующие агрументы:**\n",
    "\n",
    " - -d, путь к обучающей выборке (соотв. файл .vw )\n",
    " - --loss_function – Hinge (так как у нас SVM)\n",
    " - -f – путь к файлу, в который запишется модель (можно тоже в формате .vw)"
   ]
  },
  {
   "cell_type": "code",
   "execution_count": 47,
   "metadata": {
    "collapsed": false,
    "deletable": true,
    "editable": true
   },
   "outputs": [
    {
     "name": "stdout",
     "output_type": "stream",
     "text": [
      "final_regressor = /home/mi_air/aclImdb/aclImdb/output/movie_reviews_model.vw\n",
      "Num weight bits = 18\n",
      "learning rate = 0.5\n",
      "initial_t = 0\n",
      "power_t = 0.5\n",
      "using no cache\n",
      "Reading datafile = /home/mi_air/aclImdb/aclImdb/output/movie_reviews_train.vw\n",
      "num sources = 1\n",
      "average  since         example        example  current  current  current\n",
      "loss     last          counter         weight    label  predict features\n",
      "1.000000 1.000000            1            1.0   1.0000   0.0000      105\n",
      "1.324514 1.649029            2            2.0  -1.0000   0.6490      164\n",
      "1.274999 1.225483            4            4.0  -1.0000   0.2310      110\n",
      "1.071162 0.867325            8            8.0  -1.0000   0.4609      219\n",
      "1.063382 1.055602           16           16.0   1.0000  -0.5401      204\n",
      "0.987534 0.911686           32           32.0   1.0000   0.2172      190\n",
      "1.016583 1.045631           64           64.0  -1.0000   0.3521      126\n",
      "0.917219 0.817854          128          128.0  -1.0000  -1.0000      106\n",
      "0.863816 0.810413          256          256.0  -1.0000  -1.0000       93\n",
      "0.752982 0.642148          512          512.0   1.0000   1.0000      325\n",
      "0.652552 0.552122         1024         1024.0  -1.0000  -1.0000      494\n",
      "0.586978 0.521403         2048         2048.0  -1.0000  -0.6998      105\n",
      "0.501923 0.416868         4096         4096.0  -1.0000  -0.8127      131\n",
      "0.428878 0.355834         8192         8192.0   1.0000   1.0000      118\n",
      "0.375668 0.322457        16384        16384.0  -1.0000  -1.0000      188\n",
      "\n",
      "finished run\n",
      "number of examples per pass = 25000\n",
      "passes used = 1\n",
      "weighted example sum = 25000.000000\n",
      "weighted label sum = 0.000000\n",
      "average loss = 0.345665\n",
      "best constant = -1.000000\n",
      "best constant's loss = 1.000000\n",
      "total feature number = 4645120\n"
     ]
    }
   ],
   "source": [
    "!vw -d /home/mi_air/aclImdb/aclImdb/output/movie_reviews_train.vw --loss_function hinge -f /home/mi_air/aclImdb/aclImdb/output/movie_reviews_model.vw"
   ]
  },
  {
   "cell_type": "markdown",
   "metadata": {
    "deletable": true,
    "editable": true
   },
   "source": [
    "Сделаем прогноз для тестовой выборки с помощью обученной модели Vowpal Wabbit. Передаем следующие аргументы:\n",
    " - -i –путь к обученной модели (соотв. файл .vw)\n",
    " - -t -d – путь к тестовый выборке (соотв. файл .vw)\n",
    " - -p – путь к txt-файлу, куда запишутся прогнозы"
   ]
  },
  {
   "cell_type": "code",
   "execution_count": 48,
   "metadata": {
    "collapsed": false,
    "deletable": true,
    "editable": true
   },
   "outputs": [
    {
     "name": "stdout",
     "output_type": "stream",
     "text": [
      "only testing\n",
      "predictions = /home/mi_air/aclImdb/aclImdb/output/movie_reviews_test_predictions.txt\n",
      "Num weight bits = 18\n",
      "learning rate = 0.5\n",
      "initial_t = 0\n",
      "power_t = 0.5\n",
      "using no cache\n",
      "Reading datafile = /home/mi_air/aclImdb/aclImdb/output/movie_reviews_test.vw\n",
      "num sources = 1\n",
      "average  since         example        example  current  current  current\n",
      "loss     last          counter         weight    label  predict features\n",
      "1.678240 1.678240            1            1.0  -1.0000   0.2955       59\n",
      "0.839120 0.000000            2            2.0  -1.0000  -1.0000      103\n",
      "1.419560 2.000000            4            4.0  -1.0000  -1.0000      161\n",
      "1.518091 1.616623            8            8.0  -1.0000  -1.0000      365\n",
      "1.659781 1.801471           16           16.0  -1.0000   1.0000      319\n",
      "1.839277 2.018772           32           32.0  -1.0000   0.9469       95\n",
      "1.870033 1.900789           64           64.0  -1.0000  -0.8023      139\n",
      "1.797922 1.725810          128          128.0  -1.0000  -0.7086       92\n",
      "1.686379 1.574836          256          256.0  -1.0000   0.6643      411\n",
      "1.803710 1.921042          512          512.0  -1.0000   1.0000       94\n",
      "1.743339 1.682969         1024         1024.0  -1.0000  -1.0000      403\n",
      "1.754635 1.765930         2048         2048.0  -1.0000  -0.8662      101\n",
      "1.760437 1.766239         4096         4096.0  -1.0000  -1.0000      140\n",
      "1.751512 1.742588         8192         8192.0  -1.0000   1.0000      182\n",
      "1.742591 1.733669        16384        16384.0  -1.0000  -1.0000      201\n",
      "\n",
      "finished run\n",
      "number of examples per pass = 25000\n",
      "passes used = 1\n",
      "weighted example sum = 25000.000000\n",
      "weighted label sum = -25000.000000\n",
      "average loss = 1.753618\n",
      "best constant = -1.000000\n",
      "best constant's loss = 0.000000\n",
      "total feature number = 4535055\n"
     ]
    }
   ],
   "source": [
    "!vw -i /home/mi_air/aclImdb/aclImdb/output/movie_reviews_model.vw -t -d /home/mi_air/aclImdb/aclImdb/output/movie_reviews_test.vw -p /home/mi_air/aclImdb/aclImdb/output/movie_reviews_test_predictions.txt"
   ]
  },
  {
   "cell_type": "markdown",
   "metadata": {
    "deletable": true,
    "editable": true
   },
   "source": [
    "**Посчитаем долю правильных ответов на тестовой выборке. Vowpal Wabbit прогнозирует числа в интервале [-1,1] – нужно перевести эти оценки превратить в бинарные прогнозы.**"
   ]
  },
  {
   "cell_type": "code",
   "execution_count": 49,
   "metadata": {
    "collapsed": false,
    "deletable": true,
    "editable": true
   },
   "outputs": [],
   "source": [
    "from sklearn.metrics import accuracy_score\n"
   ]
  },
  {
   "cell_type": "code",
   "execution_count": 50,
   "metadata": {
    "collapsed": false,
    "deletable": true,
    "editable": true
   },
   "outputs": [],
   "source": [
    "test_predicted_labels = [float(label) \n",
    "                         for label in open('/home/mi_air/aclImdb/aclImdb/output/movie_reviews_test_predictions.txt').readlines()]"
   ]
  },
  {
   "cell_type": "code",
   "execution_count": 51,
   "metadata": {
    "collapsed": false,
    "deletable": true,
    "editable": true
   },
   "outputs": [],
   "source": [
    "\n",
    "test_predicted_labels_bin=[0 for i in range(len(test_predicted_labels))]"
   ]
  },
  {
   "cell_type": "code",
   "execution_count": 52,
   "metadata": {
    "collapsed": false,
    "deletable": true,
    "editable": true
   },
   "outputs": [],
   "source": [
    "for i in range(len(test_predicted_labels)):\n",
    "    if test_predicted_labels[i]>=0:\n",
    "        test_predicted_labels_bin[i]=1\n",
    "    else:\n",
    "        test_predicted_labels_bin[i]=0"
   ]
  },
  {
   "cell_type": "code",
   "execution_count": 59,
   "metadata": {
    "collapsed": false,
    "deletable": true,
    "editable": true
   },
   "outputs": [
    {
     "name": "stdout",
     "output_type": "stream",
     "text": [
      "0.88204\n"
     ]
    }
   ],
   "source": [
    "accuracy =  accuracy_score(y_test, test_predicted_labels_bin)\n",
    "#print(y_test)\n",
    "#print(test_predicted_labels_bin)\n",
    "print(accuracy)"
   ]
  },
  {
   "cell_type": "markdown",
   "metadata": {
    "collapsed": true,
    "deletable": true,
    "editable": true
   },
   "source": [
    "Загрузим полученные предсказания, вычислим AUC и отобразим ROC-кривую:"
   ]
  },
  {
   "cell_type": "code",
   "execution_count": 61,
   "metadata": {
    "collapsed": false,
    "deletable": true,
    "editable": true
   },
   "outputs": [
    {
     "data": {
      "image/png": "[encoded data removed]",
      "text/plain": [
       "<matplotlib.figure.Figure at 0x7fc13c57f2b0>"
      ]
     },
     "metadata": {},
     "output_type": "display_data"
    }
   ],
   "source": [
    "\n",
    "auc = roc_auc_score(y_test, test_predicted_labels_bin)\n",
    "roc_curve = roc_curve(y_test, test_predicted_labels_bin)\n",
    "\n",
    "plt.plot(roc_curve[0], roc_curve[1]);\n",
    "plt.plot([0,1], [0,1])\n",
    "plt.xlabel('FPR'); plt.ylabel('TPR'); plt.title('test AUC = %f' % (auc)); plt.axis([-0.05,1.05,-0.05,1.05]);"
   ]
  },
  {
   "cell_type": "code",
   "execution_count": null,
   "metadata": {
    "collapsed": true
   },
   "outputs": [],
   "source": []
  }
 ],
 "metadata": {
  "anaconda-cloud": {},
  "kernelspec": {
   "display_name": "Python [default]",
   "language": "python",
   "name": "python3"
  },
  "language_info": {
   "codemirror_mode": {
    "name": "ipython",
    "version": 3
   },
   "file_extension": ".py",
   "mimetype": "text/x-python",
   "name": "python",
   "nbconvert_exporter": "python",
   "pygments_lexer": "ipython3",
   "version": "3.5.2"
  }
 },
 "nbformat": 4,
 "nbformat_minor": 0
}

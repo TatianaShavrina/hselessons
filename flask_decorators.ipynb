{
 "cells": [
  {
   "cell_type": "code",
   "execution_count": 42,
   "metadata": {},
   "outputs": [
    {
     "name": "stdout",
     "output_type": "stream",
     "text": [
      "True\n"
     ]
    }
   ],
   "source": [
    "# coding: utf-8\n",
    "# Tatiana Shavrina\n",
    " \n",
    "def inc(fn):\n",
    "    def wrapped():\n",
    "        return fn() + 1\n",
    "    return wrapped\n",
    "\n",
    "\n",
    "@inc\n",
    "def some_number():\n",
    "    return 1\n",
    "\n",
    "assert some_number() ==2\n",
    "print(some_number() ==2)\n"
   ]
  },
  {
   "cell_type": "code",
   "execution_count": 17,
   "metadata": {},
   "outputs": [
    {
     "name": "stdout",
     "output_type": "stream",
     "text": [
      "True\n"
     ]
    }
   ],
   "source": [
    "def plus(decorator_arg):\n",
    "    def my_decorator(func):\n",
    "        def wrapped():\n",
    "            return  func() + decorator_arg\n",
    "        return wrapped\n",
    "    return my_decorator\n",
    "\n",
    "@plus(2)\n",
    "def some_number():\n",
    "    return 1\n",
    "\n",
    "assert some_number()==3\n",
    "print(some_number() ==3)"
   ]
  },
  {
   "cell_type": "code",
   "execution_count": null,
   "metadata": {
    "collapsed": true
   },
   "outputs": [],
   "source": []
  }
 ],
 "metadata": {
  "kernelspec": {
   "display_name": "Python 3",
   "language": "python",
   "name": "python3"
  },
  "language_info": {
   "codemirror_mode": {
    "name": "ipython",
    "version": 3
   },
   "file_extension": ".py",
   "mimetype": "text/x-python",
   "name": "python",
   "nbconvert_exporter": "python",
   "pygments_lexer": "ipython3",
   "version": "3.6.1"
  }
 },
 "nbformat": 4,
 "nbformat_minor": 2
}

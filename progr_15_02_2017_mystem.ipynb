{
 "cells": [
  {
   "cell_type": "code",
   "execution_count": 15,
   "metadata": {
    "collapsed": true
   },
   "outputs": [],
   "source": [
    "import lxml.html\n",
    "import urllib.request as ur\n",
    "import requests\n",
    "import time\n",
    "import re\n",
    "import os"
   ]
  },
  {
   "cell_type": "code",
   "execution_count": 3,
   "metadata": {
    "collapsed": true
   },
   "outputs": [],
   "source": [
    "link = \"http://www.irk.kp.ru/online/news/2644091/\"\n",
    "resp = ur.urlopen(link)\n",
    "page = resp.read().decode(\"utf-8\")\n",
    "resp.close()"
   ]
  },
  {
   "cell_type": "code",
   "execution_count": 4,
   "metadata": {
    "collapsed": true
   },
   "outputs": [],
   "source": [
    "tree = lxml.html.fromstring(page)"
   ]
  },
  {
   "cell_type": "code",
   "execution_count": 7,
   "metadata": {
    "collapsed": false
   },
   "outputs": [
    {
     "name": "stdout",
     "output_type": "stream",
     "text": [
      "Проезд по улице Карла Либкнехта ограничат на одну ночь в Иркутске\n"
     ]
    }
   ],
   "source": [
    "#xpath - \n",
    "# точка - значит корень дерева, а два слеша - любой уровень вложенности дерева, а не от корня\n",
    "title = tree.findtext(\".//title\")\n",
    "print(title)"
   ]
  },
  {
   "cell_type": "code",
   "execution_count": 11,
   "metadata": {
    "collapsed": false
   },
   "outputs": [
    {
     "name": "stdout",
     "output_type": "stream",
     "text": [
      "None\n"
     ]
    }
   ],
   "source": [
    "#'pubdate'\n",
    "date = tree.xpath('.//script[@type=\"text/javascript\"]')[0].get(\"pubdate\")\n",
    "print(date)"
   ]
  },
  {
   "cell_type": "code",
   "execution_count": 12,
   "metadata": {
    "collapsed": false
   },
   "outputs": [
    {
     "name": "stdout",
     "output_type": "stream",
     "text": [
      "['Политика', 'Общество', 'Экономика', 'В МИРЕ', 'Звезды', 'Здоровье', 'АФИША', 'Наука', 'Авто', 'Недвижимость', 'МАГАЗИН', 'Работа!', 'Андрей СИНЬКОВ', 'Напечатать', 'VKontakte', 'Google Pluse', 'Одноклассники', 'Мой мир', 'Facebook', 'Политика', 'Экономика', 'Общество', 'Колумнисты', 'Происшествия', 'Звезды', 'Здоровье', 'Спецпроекты', 'Спорт', 'Туризм', 'Есть работа!', 'Пресс-центр', 'Наука', 'Недвижимость', 'Подписка', 'Телевизор', 'История современности', 'ИНТЕРНЕТ-МАГАЗИН', 'Коллекции', 'Фото', 'Видео', 'Алла Пугачева', 'Афиша', 'В мире', 'Турецкие цитрусовые', 'ВИЧ: Знать, чтобы жить', 'Всё о наших пенсиях', 'Гагарин', 'Год экологии', 'Грипп', 'Дача', 'Дом. Семья', 'Жанна Фриске', 'Здоровое долголетие', 'Земля леопарда', 'Книжная полка', 'Комфортный шоппинг', 'Курс рубля', \"Money' s life\", 'Мама и малыш', 'Минздрав предупреждает', 'Наши права и льготы', 'Образование', 'Перевал Дятлова', 'Поддержка семьи', 'Приятного аппетита', 'Энергетика в деталях', 'Радио «Комсомольская Правда»', 'Сирия ', 'Новости компаний', 'Спасатель', 'Украина', 'Умные вещи', 'Конкурсы', 'Наши партнеры', 'Все о КП', 'Радио КП', 'Реклама', 'Конкурсы и тесты', 'Новое на сайте', 'Гид потребителя', 'Телеграм федеральный', 'Viber КП', 'Мой Мир КП Central', 'Твиттер Иркутск', 'Вконтакте Иркутск', 'FB Иркутск', 'Одноклассники Иркутск', 'instagr.am', 'Google Plus', 'Подписка', 'Россия\\n\\t\\t\\t\\t\\t\\t\\t']\n"
     ]
    }
   ],
   "source": [
    "#\"author\"\n",
    "author = tree.xpath('.//a[@title]/text()') #текст изнутри тега\n",
    "print(author)"
   ]
  },
  {
   "cell_type": "code",
   "execution_count": 14,
   "metadata": {
    "collapsed": false
   },
   "outputs": [
    {
     "name": "stdout",
     "output_type": "stream",
     "text": [
      "['Внимание, иркутские автомобилисты! С 22.00 часов 2 февраля до 06.00 3 февраля частично ограничат проезд по улице Карла ', ' возле пересечения с улицей Дзержинского.', 'Как сообщили в пресс-службе администрации ', ', ограничение для движения транспорта связано с тем, что рабочие будут проводить аварийные ремонтные работы на сетях водопровода', 'Кроме этого, с 1 по 15 февраля в Иркутске ', ' по улице Набережная ', ' в районе КПП терминально-складского комплекса. Там, рабочие также проведут аварийные работы на водопроводных сетях.']\n"
     ]
    }
   ],
   "source": [
    "paragraf = tree.xpath('.//div[@itemprop=\"articleBody\"]/p/text()')\n",
    "print(paragraf)"
   ]
  },
  {
   "cell_type": "markdown",
   "metadata": {},
   "source": [
    "### Задание\n",
    "\n",
    "скачать КП\n",
    "тексты с июля 2015 по декабрь 2016\n",
    "сами тексты + метаданные в таблице csv табуляцией\n",
    "с названием статьи, автор, количество слов, путь к файлу\n",
    "сами тексты должны быть распределены по папкам по году и по месяцу в году\n",
    "с помощью lxml\n",
    "потом разметить морфологически\n"
   ]
  },
  {
   "cell_type": "code",
   "execution_count": 16,
   "metadata": {
    "collapsed": true
   },
   "outputs": [],
   "source": [
    "import lxml.html\n",
    "import urllib.request as ur\n",
    "import requests\n",
    "import time\n",
    "import re\n",
    "import os"
   ]
  },
  {
   "cell_type": "code",
   "execution_count": 25,
   "metadata": {
    "collapsed": true
   },
   "outputs": [],
   "source": [
    "#startlink - первая ссылка, с которой мы начнем наш обход ресурса\n",
    "startlink = \"http://www.kp.ru/online/news/2644470/\"\n",
    "resp = ur.urlopen(startlink)\n",
    "page = resp.read().decode(\"utf-8\")\n",
    "resp.close()"
   ]
  },
  {
   "cell_type": "code",
   "execution_count": 18,
   "metadata": {
    "collapsed": true
   },
   "outputs": [],
   "source": [
    "tree = lxml.html.fromstring(page)"
   ]
  },
  {
   "cell_type": "code",
   "execution_count": 22,
   "metadata": {
    "collapsed": false
   },
   "outputs": [],
   "source": [
    "# надо создать папки с годами - 2015 и 2016, и в каждой по 12 папок с месяцами\n",
    "\n",
    "for year in range(2015,2017):\n",
    "    for month in range(1,13):\n",
    "        if month < 10:\n",
    "            month = \"0\" + str(month)\n",
    "        path = \"/home/mi_air/Downloads/Komsomol_Truth/\"+str(year)+\"/\"+str(month)\n",
    "        os.makedirs(path, mode=0o777, exist_ok=False)"
   ]
  },
  {
   "cell_type": "code",
   "execution_count": 27,
   "metadata": {
    "collapsed": false
   },
   "outputs": [],
   "source": [
    "# файлы будем называть айдишниками текстов, так как они уникальные\n",
    "# обход начнем с указанного номера \n",
    "num = int(startlink.split(\"/\")[5])"
   ]
  },
  {
   "cell_type": "code",
   "execution_count": 36,
   "metadata": {
    "collapsed": true
   },
   "outputs": [],
   "source": [
    "#напишем функцию, которая будет проверять, находится ли по указанной ссылке текст, в нужном интервале дат:\n",
    "# с июля 2015 по декабрь 2016 (июль 2015 включаем, декабрь 2016 не включаем)\n",
    "# заодно она будет на м мгод с месяцем возвравщать, чтобы удобно было сохранять текст в нужную папку\n",
    "def TextDate(link):\n",
    "    bl = False\n",
    "    r = requests.get(link)\n",
    "    date=re.split(\"T\", re.split(\"'pubdate':'\", r.text)[1])[0]\n",
    "    year = int(re.split(\"-\", date)[0])\n",
    "    month = int(re.split(\"-\", date)[1])\n",
    "    if year==2016:\n",
    "        if month<12:\n",
    "            bl=True\n",
    "    if year==2015:\n",
    "        if month>5:\n",
    "            bl=True\n",
    "    return [bl,year,month]"
   ]
  },
  {
   "cell_type": "code",
   "execution_count": 37,
   "metadata": {
    "collapsed": false
   },
   "outputs": [
    {
     "name": "stdout",
     "output_type": "stream",
     "text": [
      "[False, 2017, 2]\n",
      "[False, 2014, 9]\n",
      "[True, 2015, 8]\n"
     ]
    }
   ],
   "source": [
    "#проверка этой функции\n",
    "print(TextDate(\"http://www.kp.ru/online/news/2644468/\"))\n",
    "print(TextDate(\"http://www.kp.ru/online/news/1844468/\"))\n",
    "print(TextDate(\"http://www.kp.ru/online/news/2144468/\"))"
   ]
  },
  {
   "cell_type": "code",
   "execution_count": null,
   "metadata": {
    "collapsed": true
   },
   "outputs": [],
   "source": [
    "#заодно мы выяснили, что в районе 1,8 млн статей нужные нам статьи уже заканчиваются, \n",
    "#поэтому не будет заставлять программу перебирать номера статей так долго и ограничим их этим числом\n",
    "while num<1844468:\n",
    "    link = \"http://www.kp.ru/online/news/\"+str(num)+\"/\"\n",
    "    if DateText(link)[0]==True:\n",
    "        try:\n",
    "            #[n_time, n_date, n_rubr, n_id, n_author, n_head, n_region, n_text]\n",
    "            params = getArticleTextKP(link)\n",
    "            corpus.write(\"<author>\"+params[4]+\"</author>\"+\"\\n\")\n",
    "            corpus.write(\"<textname>\"+params[5]+\"<textname>\"+\"\\n\")\n",
    "            corpus.write(\"<textregion>\"+params[6]+\"<textregion>\"+\"\\n\")\n",
    "            corpus.write(\"<textrubric>\"+params[2]+\"</textrubric>\"+\"\\n\")\n",
    "            corpus.write(\"<date>\"+params[1]+\"</date>\"+\"\\n\")\n",
    "            corpus.write(\"<time>\"+params[0]+\"</time>\"+\"\\n\")\n",
    "            corpus.write(\"<source>\"+link+\"</source>\"+\"\\n\")\n",
    "            corpus.write(\"<textid>\" + params[3]+\"</textid>\" +\"\\n\")\n",
    "            corpus.write(\"<text>\"+\"\\n\")\n",
    "            corpus.write(params[7]+\"\\n\")\n",
    "            corpus.write(\"</text>\"+\"\\n\")\n",
    "            print(link)\n",
    "            hreffile.write(link+\"\\n\")\n",
    "        except:\n",
    "            pass\n",
    "    num-=1"
   ]
  },
  {
   "cell_type": "code",
   "execution_count": 23,
   "metadata": {
    "collapsed": true
   },
   "outputs": [],
   "source": [
    "# Функия принимает адрес статьи на KP u и возвращает текст статьи и метаинформацию по ней.\n",
    "def getArticleTextKP(adr):\n",
    "    r = requests.get(adr) # Получаем текст статьи и выкусываем все нужное\n",
    "    \n",
    "    n_time=re.split(\"T\", re.split(\"',\", re.split(\"'pubdate':'\", r.text)[1])[0])[1]\n",
    "    n_date=re.split(\"T\", re.split(\"'pubdate':'\", r.text)[1])[0]\n",
    "    n_rubr=re.split(\"',\", re.split(\"'sections':'\", r.text)[1])[0]\n",
    "    n_id = re.split(\"',\", re.split(\"'post_id':'\", r.text)[1])[0]\n",
    "    n_region = re.split(\"',\", re.split(\"'ci_region':'\", r.text)[1])[0]\n",
    "    n_head=re.split(\"',\",re.split(\"'title': '\", r.text)[1])[0]\n",
    "    n_author=re.split(\"',\",re.split(\"authors': '\", r.text)[1])[0]\n",
    "    text=re.split(\"</div></article>\",re.split('itemprop=\"articleBody\" id=\"hypercontext\">', r.text)[1])[0] \n",
    "\n",
    "    #чистим текст от тегов\n",
    "    beaux_text=BeautifulSoup(text, \"lxml\")\n",
    "    n_text=beaux_text.get_text() \n",
    "    time.sleep(random.uniform(1, 3))\n",
    "\n",
    "    return [n_time, n_date, n_rubr, n_id, n_author, n_head, n_region, n_text]\n"
   ]
  },
  {
   "cell_type": "markdown",
   "metadata": {
    "collapsed": true
   },
   "source": [
    "mystem ожидает на вход utf-8\n",
    "/home/mi_air/mystem\n",
    "для бинарника на убунту нужно после скачивания сделать chmod 777 путь\n",
    "\n",
    "ctrl+c - заверщение работы программы\n",
    "\n",
    "mystem input output\n",
    "\n",
    "без настроек - только лемматизация, убираются межсловные интервалы, знаки препинания, переносы строк...\n",
    "\n",
    "надо юзать опции! https://tech.yandex.ru/mystem/doc/index-docpage/ "
   ]
  },
  {
   "cell_type": "code",
   "execution_count": 1,
   "metadata": {
    "collapsed": true
   },
   "outputs": [],
   "source": [
    "! /home/mi_air/mystem 1.txt 2.txt"
   ]
  },
  {
   "cell_type": "code",
   "execution_count": 2,
   "metadata": {
    "collapsed": true
   },
   "outputs": [],
   "source": [
    "! /home/mi_air/mystem -ni -d 1.txt 1_out.txt"
   ]
  },
  {
   "cell_type": "code",
   "execution_count": 3,
   "metadata": {
    "collapsed": true
   },
   "outputs": [],
   "source": [
    "! /home/mi_air/mystem -ni -d --weight 1.txt 1_weighted.txt"
   ]
  },
  {
   "cell_type": "code",
   "execution_count": 4,
   "metadata": {
    "collapsed": false
   },
   "outputs": [
    {
     "data": {
      "text/plain": [
       "0"
      ]
     },
     "execution_count": 4,
     "metadata": {},
     "output_type": "execute_result"
    }
   ],
   "source": [
    "import os\n",
    "os.system('/home/mi_air/mystem -ni -d 1.txt 1_os.txt')"
   ]
  },
  {
   "cell_type": "markdown",
   "metadata": {},
   "source": [
    "Новое условие - по 5 млн слв в год, минимум 7,5 млн\n",
    "В метатаблице должны быть тексты по всем месяцам и годам\n",
    "\n"
   ]
  }
 ],
 "metadata": {
  "anaconda-cloud": {},
  "kernelspec": {
   "display_name": "Python [default]",
   "language": "python",
   "name": "python3"
  },
  "language_info": {
   "codemirror_mode": {
    "name": "ipython",
    "version": 3
   },
   "file_extension": ".py",
   "mimetype": "text/x-python",
   "name": "python",
   "nbconvert_exporter": "python",
   "pygments_lexer": "ipython3",
   "version": "3.5.2"
  }
 },
 "nbformat": 4,
 "nbformat_minor": 2
}

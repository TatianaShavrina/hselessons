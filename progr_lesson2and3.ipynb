{
 "cells": [
  {
   "cell_type": "code",
   "execution_count": 5,
   "metadata": {
    "collapsed": false
   },
   "outputs": [
    {
     "name": "stdout",
     "output_type": "stream",
     "text": [
      "Угадай слово: пролд\n",
      "А вот и нет!\n"
     ]
    }
   ],
   "source": [
    "stroka = input(\"Угадай слово: \")\n",
    "slovo = \"корпус\"\n",
    "if stroka == slovo:\n",
    "    print(\"Угадал!\")\n",
    "else:\n",
    "    print(\"А вот и нет!\")"
   ]
  },
  {
   "cell_type": "code",
   "execution_count": 7,
   "metadata": {
    "collapsed": false
   },
   "outputs": [
    {
     "name": "stdout",
     "output_type": "stream",
     "text": [
      "Угадай слово: sdfghj\n",
      "А вот и нет!\n"
     ]
    }
   ],
   "source": [
    "stroka = input(\"Угадай слово: \")\n",
    "slovo = [\"корпус\", \"ghbdtn\", \"привет\", \"пароль\"]\n",
    "k = 0\n",
    "for i in slovo:\n",
    "    if stroka == i:\n",
    "        k = k+1\n",
    "        print(\"Угадал!\")\n",
    "if k == 0:\n",
    "    print(\"А вот и нет!\")"
   ]
  },
  {
   "cell_type": "code",
   "execution_count": 11,
   "metadata": {
    "collapsed": false
   },
   "outputs": [
    {
     "name": "stdout",
     "output_type": "stream",
     "text": [
      "true\n"
     ]
    }
   ],
   "source": [
    "stroka = \"test1\"\n",
    "if stroka.startswith('te'):\n",
    "    print(\"true\")\n",
    "else:\n",
    "    print(\"false\")"
   ]
  },
  {
   "cell_type": "code",
   "execution_count": 5,
   "metadata": {
    "collapsed": false
   },
   "outputs": [
    {
     "name": "stdout",
     "output_type": "stream",
     "text": [
      "Введите активное причастие настоящего времени, муж.рода: аа55щий\n",
      "Вы ввели слово, не соответствующее условиям\n"
     ]
    }
   ],
   "source": [
    "stroka = input(\"Введите активное причастие настоящего времени, муж.рода: \")\n",
    "stroka = stroka.lower()\n",
    "k = 0 #принимает значение 1, если введенное слово имеет окончание из списка\n",
    "okonch = [\"щий\", \"щего\", \"щему\", \"щим\", \"щем\", \"щие\", \"щих\", \"щими\"]\n",
    "m1 = \"Причастие ед.числа, имен./вин.падеж\"\n",
    "m2 = \"Причастие ед.числа, родит./вин.падеж\"\n",
    "m3 = \"Причастие ед.числа, дат.падеж\"\n",
    "m4 = \"Причастие ед.числа, твор.падеж / множ.число, дат.падеж\"\n",
    "m5 = \"Причастие ед.числа, предл.падеж\"\n",
    "m6 = \"Причастие множ.числа, имен./вин.падеж\"\n",
    "m7 = \"Причастие множ.числа, родит./вин./предл.падеж\"\n",
    "m8 = \"Причастие множ.числа, твор.падеж\"\n",
    "morph = [m1, m2, m3, m4, m5, m6, m7, m8]\n",
    "for i in range(len(okonch)):\n",
    "    if stroka.endswith(okonch[i]) and stroka.isalpha():\n",
    "        k = k + 1\n",
    "        print(morph[i])\n",
    "#осталась неучтенной проверка на то, состоит ли слово только из кириллицы\n",
    "if k == 0:\n",
    "    print(\"Вы ввели слово, не соответствующее условиям\")"
   ]
  },
  {
   "cell_type": "code",
   "execution_count": 9,
   "metadata": {
    "collapsed": false
   },
   "outputs": [
    {
     "name": "stdout",
     "output_type": "stream",
     "text": [
      "Введите слово: крокодил\n",
      "кбобобиб\n"
     ]
    }
   ],
   "source": [
    "stroka = input(\"Введите слово: \")\n",
    "spisok = list(stroka)\n",
    "for i in range(len(spisok)):\n",
    "    if i%2==1:\n",
    "        spisok[i]='б'\n",
    "final = \"\" #пустая строка\n",
    "for i in spisok:\n",
    "    final = final+i\n",
    "print(final)"
   ]
  },
  {
   "cell_type": "code",
   "execution_count": 6,
   "metadata": {
    "collapsed": false
   },
   "outputs": [
    {
     "name": "stdout",
     "output_type": "stream",
     "text": [
      "Введите слово: кутчуп\n",
      "пучтук\n"
     ]
    }
   ],
   "source": [
    "stroka = input(\"Введите слово: \")\n",
    "vyvod = \"\"\n",
    "l = len(stroka)\n",
    "for i in range(l):\n",
    "    vyvod = vyvod + stroka[l-1-i]\n",
    "print(vyvod)"
   ]
  },
  {
   "cell_type": "code",
   "execution_count": null,
   "metadata": {
    "collapsed": false
   },
   "outputs": [],
   "source": [
    "stroka = input(\"Введите слово: \")\n",
    "while stroka != \"\":\n",
    "    vyvod = \"\"\n",
    "    l = len(stroka)\n",
    "    for i in range(l):\n",
    "        vyvod = vyvod + stroka[l-1-i]\n",
    "    print(vyvod)\n",
    "    stroka = input(\"Введите слово: \")\n",
    "else:\n",
    "    print(\"Работа закончена!\")"
   ]
  },
  {
   "cell_type": "code",
   "execution_count": null,
   "metadata": {
    "collapsed": true
   },
   "outputs": [],
   "source": []
  }
 ],
 "metadata": {
  "kernelspec": {
   "display_name": "Python 3",
   "language": "python",
   "name": "python3"
  },
  "language_info": {
   "codemirror_mode": {
    "name": "ipython",
    "version": 3
   },
   "file_extension": ".py",
   "mimetype": "text/x-python",
   "name": "python",
   "nbconvert_exporter": "python",
   "pygments_lexer": "ipython3",
   "version": "3.4.3"
  }
 },
 "nbformat": 4,
 "nbformat_minor": 0
}

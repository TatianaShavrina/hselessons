{
 "cells": [
  {
   "cell_type": "markdown",
   "metadata": {},
   "source": [
    "## Извлечение коллокаций и терминов\n",
    "### Татьяна Шаврина\n",
    "### Задание 1А"
   ]
  },
  {
   "cell_type": "markdown",
   "metadata": {},
   "source": [
    "#### Импортируем необходимые библиотеки:"
   ]
  },
  {
   "cell_type": "code",
   "execution_count": 1,
   "metadata": {
    "collapsed": true
   },
   "outputs": [],
   "source": [
    "import pandas as pd\n",
    "import os\n",
    "import re\n",
    "import nltk\n",
    "from nltk.collocations import *\n",
    "from nltk.metrics.distance import edit_distance \n",
    "from nltk.stem import WordNetLemmatizer\n",
    "import wikiwords"
   ]
  },
  {
   "cell_type": "markdown",
   "metadata": {},
   "source": [
    "#### Преобразуем данные в формат датафрейма для удобства"
   ]
  },
  {
   "cell_type": "code",
   "execution_count": 2,
   "metadata": {},
   "outputs": [],
   "source": [
    "lst = []\n",
    "keywords=[]\n",
    "texts=[]\n",
    "for file in os.listdir(r'/home/mi_air/Documents/HSE/corpus_linguistics/SemEval2010-Maui/maui-semeval2010-train'):\n",
    "    lst.append(file)\n",
    "for file in sorted(lst):\n",
    "    if \"key\" in file:\n",
    "        f = open(r'/home/mi_air/Documents/HSE/corpus_linguistics/SemEval2010-Maui/maui-semeval2010-train/'+file, 'r', encoding='utf8').read()\n",
    "        keywords.append(re.split( '\\n', f))\n",
    "    else:\n",
    "        f = open(r'/home/mi_air/Documents/HSE/corpus_linguistics/SemEval2010-Maui/maui-semeval2010-train/'+file, 'r', encoding='utf8').read()\n",
    "        texts.append(f)"
   ]
  },
  {
   "cell_type": "code",
   "execution_count": 3,
   "metadata": {
    "collapsed": true
   },
   "outputs": [],
   "source": [
    "lst2 = []\n",
    "keywords2=[]\n",
    "texts2=[]\n",
    "for file in os.listdir(r'/home/mi_air/Documents/HSE/corpus_linguistics/SemEval2010-Maui/maui-semeval2010-test'):\n",
    "    lst2.append(file)\n",
    "for file in sorted(lst2):\n",
    "    if \"key\" in file:\n",
    "        f = open(r'/home/mi_air/Documents/HSE/corpus_linguistics/SemEval2010-Maui/maui-semeval2010-test/'+file, 'r', encoding='utf8').read()\n",
    "        keywords2.append(re.split( '\\n', f))\n",
    "    else:\n",
    "        f = open(r'/home/mi_air/Documents/HSE/corpus_linguistics/SemEval2010-Maui/maui-semeval2010-test/'+file, 'r', encoding='utf8').read()\n",
    "        texts2.append(f)"
   ]
  },
  {
   "cell_type": "code",
   "execution_count": 4,
   "metadata": {},
   "outputs": [
    {
     "data": {
      "text/html": [
       "<div>\n",
       "<style>\n",
       "    .dataframe thead tr:only-child th {\n",
       "        text-align: right;\n",
       "    }\n",
       "\n",
       "    .dataframe thead th {\n",
       "        text-align: left;\n",
       "    }\n",
       "\n",
       "    .dataframe tbody tr th {\n",
       "        vertical-align: top;\n",
       "    }\n",
       "</style>\n",
       "<table border=\"1\" class=\"dataframe\">\n",
       "  <thead>\n",
       "    <tr style=\"text-align: right;\">\n",
       "      <th></th>\n",
       "      <th>keywords</th>\n",
       "      <th>text</th>\n",
       "    </tr>\n",
       "  </thead>\n",
       "  <tbody>\n",
       "    <tr>\n",
       "      <th>0</th>\n",
       "      <td>[adaptive resource management, distributed rea...</td>\n",
       "      <td>Evaluating Adaptive Resource Management for\\nD...</td>\n",
       "    </tr>\n",
       "    <tr>\n",
       "      <th>1</th>\n",
       "      <td>[ensemble kalman filter, datum assimilation me...</td>\n",
       "      <td>Demonstration of Grid-Enabled Ensemble Kalman ...</td>\n",
       "    </tr>\n",
       "    <tr>\n",
       "      <th>2</th>\n",
       "      <td>[multi-sequence positioning, wireless sensor n...</td>\n",
       "      <td>MSP: Multi-Sequence Positioning of Wireless Se...</td>\n",
       "    </tr>\n",
       "    <tr>\n",
       "      <th>3</th>\n",
       "      <td>[wireless sensor network, localization, corner...</td>\n",
       "      <td>StarDust: A Flexible Architecture for Passive ...</td>\n",
       "    </tr>\n",
       "    <tr>\n",
       "      <th>4</th>\n",
       "      <td>[sensor datum, separation of datum, datum sepa...</td>\n",
       "      <td>TSAR: A Two Tier Sensor Storage Architecture U...</td>\n",
       "    </tr>\n",
       "  </tbody>\n",
       "</table>\n",
       "</div>"
      ],
      "text/plain": [
       "                                            keywords  \\\n",
       "0  [adaptive resource management, distributed rea...   \n",
       "1  [ensemble kalman filter, datum assimilation me...   \n",
       "2  [multi-sequence positioning, wireless sensor n...   \n",
       "3  [wireless sensor network, localization, corner...   \n",
       "4  [sensor datum, separation of datum, datum sepa...   \n",
       "\n",
       "                                                text  \n",
       "0  Evaluating Adaptive Resource Management for\\nD...  \n",
       "1  Demonstration of Grid-Enabled Ensemble Kalman ...  \n",
       "2  MSP: Multi-Sequence Positioning of Wireless Se...  \n",
       "3  StarDust: A Flexible Architecture for Passive ...  \n",
       "4  TSAR: A Two Tier Sensor Storage Architecture U...  "
      ]
     },
     "execution_count": 4,
     "metadata": {},
     "output_type": "execute_result"
    }
   ],
   "source": [
    "data = pd.DataFrame(\n",
    "    {'text': texts,\n",
    "     'keywords': keywords\n",
    "    })\n",
    "data.head()"
   ]
  },
  {
   "cell_type": "code",
   "execution_count": 5,
   "metadata": {},
   "outputs": [
    {
     "data": {
      "text/html": [
       "<div>\n",
       "<style>\n",
       "    .dataframe thead tr:only-child th {\n",
       "        text-align: right;\n",
       "    }\n",
       "\n",
       "    .dataframe thead th {\n",
       "        text-align: left;\n",
       "    }\n",
       "\n",
       "    .dataframe tbody tr th {\n",
       "        vertical-align: top;\n",
       "    }\n",
       "</style>\n",
       "<table border=\"1\" class=\"dataframe\">\n",
       "  <thead>\n",
       "    <tr style=\"text-align: right;\">\n",
       "      <th></th>\n",
       "      <th>keywords</th>\n",
       "      <th>text</th>\n",
       "    </tr>\n",
       "  </thead>\n",
       "  <tbody>\n",
       "    <tr>\n",
       "      <th>0</th>\n",
       "      <td>[grid service discovery, uddi, distributed web...</td>\n",
       "      <td>Scalable Grid Service Discovery Based on UDDI*...</td>\n",
       "    </tr>\n",
       "    <tr>\n",
       "      <th>1</th>\n",
       "      <td>[target detection, sensor network, path exposu...</td>\n",
       "      <td>Sensor Deployment Strategy for Target Detectio...</td>\n",
       "    </tr>\n",
       "    <tr>\n",
       "      <th>2</th>\n",
       "      <td>[voip conferencing system, packet-switched net...</td>\n",
       "      <td>Deployment Issues of a VoIP Conferencing Syste...</td>\n",
       "    </tr>\n",
       "    <tr>\n",
       "      <th>3</th>\n",
       "      <td>[malware, swarm worm, emergent intelligence, s...</td>\n",
       "      <td>An Initial Analysis and Presentation of Malwar...</td>\n",
       "    </tr>\n",
       "    <tr>\n",
       "      <th>4</th>\n",
       "      <td>[protocol framework, distributed algorithm, di...</td>\n",
       "      <td>Service Interface: A New Abstraction for Imple...</td>\n",
       "    </tr>\n",
       "  </tbody>\n",
       "</table>\n",
       "</div>"
      ],
      "text/plain": [
       "                                            keywords  \\\n",
       "0  [grid service discovery, uddi, distributed web...   \n",
       "1  [target detection, sensor network, path exposu...   \n",
       "2  [voip conferencing system, packet-switched net...   \n",
       "3  [malware, swarm worm, emergent intelligence, s...   \n",
       "4  [protocol framework, distributed algorithm, di...   \n",
       "\n",
       "                                                text  \n",
       "0  Scalable Grid Service Discovery Based on UDDI*...  \n",
       "1  Sensor Deployment Strategy for Target Detectio...  \n",
       "2  Deployment Issues of a VoIP Conferencing Syste...  \n",
       "3  An Initial Analysis and Presentation of Malwar...  \n",
       "4  Service Interface: A New Abstraction for Imple...  "
      ]
     },
     "execution_count": 5,
     "metadata": {},
     "output_type": "execute_result"
    }
   ],
   "source": [
    "testdata = pd.DataFrame(\n",
    "    {'text': texts2,\n",
    "     'keywords': keywords2\n",
    "    })\n",
    "testdata.head()"
   ]
  },
  {
   "cell_type": "code",
   "execution_count": 6,
   "metadata": {
    "collapsed": true
   },
   "outputs": [],
   "source": [
    "y_train = data[\"keywords\"]\n",
    "X_train= data[\"text\"]\n",
    "X_test = testdata[\"text\"]\n",
    "y_test = testdata[\"keywords\"]"
   ]
  },
  {
   "cell_type": "markdown",
   "metadata": {},
   "source": [
    "#### Введем список символов и стоп-слов, наличие которых будем считать критетрием для обраковки коллокаций"
   ]
  },
  {
   "cell_type": "code",
   "execution_count": 7,
   "metadata": {
    "collapsed": true
   },
   "outputs": [],
   "source": [
    "stopsymbols = list('\\[\\]9012345678(|){}+=_∗*−-&^%$#@!\"/?.><,;:')\n",
    "stopwords = ['the', 'a', 'of', 'in']\n",
    "lemmatizer = WordNetLemmatizer()"
   ]
  },
  {
   "cell_type": "markdown",
   "metadata": {},
   "source": [
    "#### Метрика оценки будет вот такая: берем золотой список терминов для данного текста, наш собственный список терминов, и поэлементно сравниваем, с учетом того, что совпадение строк может быть не полное, а на расстоянии левенштейна 3: (большие буквы, опечатки, сокращения - все то, что может случайно попасть). При таком совпадении засчитывается правильный ответ, и по их итоговому количеству выводится аккуратность. "
   ]
  },
  {
   "cell_type": "code",
   "execution_count": 8,
   "metadata": {},
   "outputs": [],
   "source": [
    "def accuracy(keywords, testkeywords):\n",
    "    acc = 0\n",
    "    for i in keywords:\n",
    "        for y in testkeywords:\n",
    "            try:\n",
    "                if edit_distance(i, y, substitution_cost=1, transpositions=False)<=3:\n",
    "                    acc+=1/len(testkeywords)\n",
    "            except:\n",
    "                pass\n",
    "    return acc"
   ]
  },
  {
   "cell_type": "markdown",
   "metadata": {},
   "source": [
    "#### Собственно извлечение коллокаций: для каждого текста проводится токенизация и лемматизация, стоп-слова и символы удаляются, затем ищутся частотные биграммы и триграммы, из них оставляются топ-20 (10+10) по likelihood_ratio. (Я пробовала также pmi, mi_like, raw_freq - но все mutual information поднимают наверх сочетания с редкими словами, а raw_freq слишком неустойчивая метрика)\n",
    "#### Затем этот список ранжируется единым образом - создается единый список всех потенциальных терминов, они сортируются по частоте, и остается самый топ-10. Естественным образом, на данном этапе отсекается большая часть триграмм, так как частота триграмм обычно бывает ниже частоты биграмм, если только это не очень устойчивые сочетания, что нам и нужно!"
   ]
  },
  {
   "cell_type": "markdown",
   "metadata": {},
   "source": [
    "#### Применяется также частеречный фильтр: если сочетание состоит из существительных или существительных и прилагательных, мы искусственно  поднимаем его частоту в 10 раз, что поднимает вероятность попадания сочетания в топ терминов"
   ]
  },
  {
   "cell_type": "markdown",
   "metadata": {},
   "source": [
    "#### Также дополнительно ищется частота термина по википедии с помощью библиотеки wikiwords, и является множителем к частоте. Дополнительно проверяется, состоит ли строка из букв - если нет, то частота термина сильно понижается."
   ]
  },
  {
   "cell_type": "code",
   "execution_count": 13,
   "metadata": {
    "collapsed": true
   },
   "outputs": [],
   "source": [
    "def get_wikifrequencies(candidate_keywords):\n",
    "    max_frequency = float(wikiwords.freq('the'))\n",
    "    return max([wikiwords.freq(w)/max_frequency for w in candidate_keywords])"
   ]
  },
  {
   "cell_type": "code",
   "execution_count": 23,
   "metadata": {},
   "outputs": [
    {
     "name": "stdout",
     "output_type": "stream",
     "text": [
      "0.1\n",
      "0.06666666666666667\n",
      "0\n",
      "0.2\n",
      "0.4285714285714285\n",
      "0.4999999999999999\n",
      "0.06666666666666667\n",
      "0.11764705882352941\n",
      "0.13333333333333333\n",
      "0.125\n",
      "0.06666666666666667\n",
      "0.05263157894736842\n",
      "0\n",
      "0\n",
      "0.0625\n",
      "0\n",
      "0.3076923076923077\n",
      "0\n",
      "0\n",
      "0.043478260869565216\n",
      "0.2\n",
      "0.08333333333333333\n",
      "0.043478260869565216\n",
      "0\n",
      "0.26666666666666666\n",
      "0.07692307692307693\n",
      "0.21428571428571427\n",
      "0.06666666666666667\n",
      "0.07142857142857142\n",
      "0\n",
      "0.15000000000000002\n",
      "0.05555555555555555\n",
      "0.27272727272727276\n",
      "0.3333333333333333\n",
      "0\n",
      "0.045454545454545456\n",
      "0.13333333333333333\n",
      "0.2\n",
      "0.3076923076923077\n",
      "0.125\n",
      "0.14285714285714285\n",
      "0.043478260869565216\n",
      "0.16666666666666666\n",
      "0.2631578947368421\n",
      "0.05\n",
      "0\n",
      "0.05555555555555555\n",
      "0.125\n",
      "0.15384615384615385\n",
      "0.08\n",
      "0.07142857142857142\n",
      "0.09090909090909091\n",
      "0.15000000000000002\n",
      "0\n",
      "0.07692307692307693\n",
      "0\n",
      "0\n",
      "0.13333333333333333\n",
      "0.07692307692307693\n",
      "0.13333333333333333\n",
      "0.29411764705882354\n",
      "0.1\n",
      "0.047619047619047616\n",
      "0\n",
      "0.13333333333333333\n",
      "0.23529411764705882\n",
      "0.05555555555555555\n",
      "0.1875\n",
      "0.2727272727272727\n",
      "0.15789473684210525\n",
      "0\n",
      "0.07142857142857142\n",
      "0.41666666666666663\n",
      "0.2222222222222222\n",
      "0.16666666666666666\n",
      "0\n",
      "0.0625\n",
      "0.05555555555555555\n",
      "0.06666666666666667\n",
      "0.21428571428571427\n",
      "0.18181818181818182\n",
      "0.13333333333333333\n",
      "0.5\n",
      "0.07142857142857142\n",
      "0\n",
      "0.39999999999999997\n",
      "0.125\n",
      "0.07692307692307693\n",
      "0.14285714285714285\n",
      "0.05555555555555555\n",
      "0.13333333333333333\n",
      "0.07142857142857142\n",
      "0.25\n",
      "0.2\n",
      "0.11764705882352941\n",
      "0.23076923076923078\n",
      "0.06666666666666667\n",
      "0.11764705882352941\n",
      "0.125\n",
      "0.1\n"
     ]
    }
   ],
   "source": [
    "bigram_measures = nltk.collocations.BigramAssocMeasures()\n",
    "trigram_measures = nltk.collocations.TrigramAssocMeasures()\n",
    "allacc=[]\n",
    "for elem in range(len(X_test)):\n",
    "    test = y_test[elem]\n",
    "    l = 10\n",
    "    X_test[elem] = X_test[elem].lower()\n",
    "    elem = nltk.tokenize.casual.casual_tokenize(X_test[elem], preserve_case=True, reduce_len=False, strip_handles=False)\n",
    "    elem = [lemmatizer.lemmatize(el) for el in elem if el not in stopsymbols]\n",
    "    elem = [el for el in elem if el not in stopwords]\n",
    "    finder2 = BigramCollocationFinder.from_words(elem)\n",
    "    finder3 = TrigramCollocationFinder.from_words(elem)\n",
    "    keystotest = []\n",
    "    sp = [el for el in list(finder2.score_ngrams(bigram_measures.likelihood_ratio)[:10])]\n",
    "    for el in list(finder3.score_ngrams(trigram_measures.likelihood_ratio)[:10]):\n",
    "        sp.append(el)\n",
    "    \n",
    "    allkeys=dict(sp)\n",
    "    newkeys = {}\n",
    "    for i in sorted(allkeys):\n",
    "            \n",
    "        words = \" \".join(i)\n",
    "        if words.isalpha()==False:\n",
    "            newkeys[i] = allkeys[i]/10\n",
    "        pos = [n[1] for n in nltk.pos_tag(list(i))]\n",
    "        nn = True\n",
    "        for elem in pos:\n",
    "            if 'NN' not in elem:\n",
    "                if 'JJ' not in elem:\n",
    "                    nn=False\n",
    "        if nn:\n",
    "            newkeys[i] = allkeys[i]*10\n",
    "        \n",
    "        newkeys[i] = allkeys[i]*get_wikifrequencies(words)\n",
    "    \n",
    "    \n",
    "    for i in sorted(newkeys.items(), reverse=True)[:l]:\n",
    "\n",
    "        words = \" \".join(i[0])\n",
    "        keystotest.append(words)\n",
    "    a = accuracy(keystotest, test )\n",
    "    allacc.append(a)\n",
    "    print(a)\n",
    "    "
   ]
  },
  {
   "cell_type": "markdown",
   "metadata": {},
   "source": [
    "#### Для каждого текста мы считали итоговую долю правильно выделенных терминов, и затем выводим средний результат:"
   ]
  },
  {
   "cell_type": "code",
   "execution_count": 24,
   "metadata": {},
   "outputs": [
    {
     "data": {
      "text/plain": [
       "0.12589586319925866"
      ]
     },
     "execution_count": 24,
     "metadata": {},
     "output_type": "execute_result"
    }
   ],
   "source": [
    "import numpy\n",
    "numpy.mean(allacc)"
   ]
  },
  {
   "cell_type": "code",
   "execution_count": null,
   "metadata": {},
   "outputs": [],
   "source": []
  },
  {
   "cell_type": "code",
   "execution_count": null,
   "metadata": {
    "collapsed": true
   },
   "outputs": [],
   "source": []
  }
 ],
 "metadata": {
  "kernelspec": {
   "display_name": "Python 3",
   "language": "python",
   "name": "python3"
  },
  "language_info": {
   "codemirror_mode": {
    "name": "ipython",
    "version": 3
   },
   "file_extension": ".py",
   "mimetype": "text/x-python",
   "name": "python",
   "nbconvert_exporter": "python",
   "pygments_lexer": "ipython3",
   "version": "3.5.2"
  }
 },
 "nbformat": 4,
 "nbformat_minor": 2
}
